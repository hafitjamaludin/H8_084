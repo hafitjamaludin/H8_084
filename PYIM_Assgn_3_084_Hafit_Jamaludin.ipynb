{
  "nbformat": 4,
  "nbformat_minor": 0,
  "metadata": {
    "colab": {
      "name": "PYIM_Assgn_3_084_Hafit Jamaludin.ipynb",
      "provenance": [],
      "collapsed_sections": []
    },
    "kernelspec": {
      "name": "python3",
      "display_name": "Python 3"
    },
    "language_info": {
      "name": "python"
    }
  },
  "cells": [
    {
      "cell_type": "markdown",
      "source": [
        "# Sentiment Analysis\n",
        "## Projects Concepts\n",
        "### Approaching a Project\n",
        "\n",
        "Mengembangkan aplikasi dalam skala besar tidaklah mudah. Jangan langsung terjun dan mencoba untuk menyelesaikan semuanya sekaligus. Seperti petuah bijak berikut:\n",
        "\n",
        "\"A goal without a plan is just a wish.\"\n",
        "\n",
        "Mulailah dengan rencana! Berikut beberapa langkah yang sebaiknya diikuti ketika mengembangkan aplikasi:\n",
        "\n",
        "- buatlah outline langkah demi langkah yang dibutuhkan untuk membangun aplikasi\n",
        "- kemudian tulis pseudocode\n",
        "- kembangkan sintaks satu per satu\n",
        "\n",
        "Dan sebelum submit, pastikan:\n",
        "\n",
        "- semua bugs sudah dibasmi\n",
        "- cek rubrik dan pastikan proyek kamu sudah memenuhi semua requirements\n",
        "\n",
        "### Project Overview\n",
        "\n",
        "DATA COLUMNS:\n",
        "marketplace       - 2 letter country code of the marketplace where the review was written.\n",
        "customer_id       - Random identifier that can be used to aggregate reviews written by a single author.\n",
        "review_id         - The unique ID of the review.\n",
        "product_id        - The unique Product ID the review pertains to. In the multilingual dataset the reviews\n",
        "for the same product in different countries can be grouped by the same product_id.\n",
        "product_parent    - Random identifier that can be used to aggregate reviews for the same product.\n",
        "product_title     - Title of the product.\n",
        "product_category  - Broad product category that can be used to group reviews\n",
        "(also used to group the dataset into coherent parts).\n",
        "star_rating       - The 1-5 star rating of the review.\n",
        "helpful_votes     - Number of helpful votes.\n",
        "total_votes       - Number of total votes the review received.\n",
        "vine              - Review was written as part of the Vine program.\n",
        "verified_purchase - The review is on a verified purchase.\n",
        "review_headline   - The title of the review.\n",
        "review_body       - The review text.\n",
        "review_date       - The date the review was written.\n",
        "\n",
        "DATA FORMAT\n",
        "Tab ('\\t') separated text file, without quote or escape characters.\n",
        "First line in each file is header; 1 line corresponds to 1 record.\n",
        "\n",
        "In this assignment, you have to demonstrate:\n",
        "\n",
        "- How to load and prepare text for modeling.\n",
        "- How to develop a RNN for text classification sentiment analysis with Tensorflow and improve model performance.\n"
      ],
      "metadata": {
        "id": "KMHnSwcetJNK"
      }
    },
    {
      "cell_type": "code",
      "execution_count": 5,
      "metadata": {
        "colab": {
          "base_uri": "https://localhost:8080/"
        },
        "id": "g_1LGxSv116U",
        "outputId": "62874e02-9c23-43f1-bfa6-68786a9aa850"
      },
      "outputs": [
        {
          "output_type": "stream",
          "name": "stdout",
          "text": [
            "Looking in indexes: https://pypi.org/simple, https://us-python.pkg.dev/colab-wheels/public/simple/\n",
            "Requirement already satisfied: tensorflow-datasets in /usr/local/lib/python3.7/dist-packages (4.6.0)\n",
            "Requirement already satisfied: termcolor in /usr/local/lib/python3.7/dist-packages (from tensorflow-datasets) (1.1.0)\n",
            "Requirement already satisfied: dill in /usr/local/lib/python3.7/dist-packages (from tensorflow-datasets) (0.3.5.1)\n",
            "Requirement already satisfied: promise in /usr/local/lib/python3.7/dist-packages (from tensorflow-datasets) (2.3)\n",
            "Requirement already satisfied: six in /usr/local/lib/python3.7/dist-packages (from tensorflow-datasets) (1.15.0)\n",
            "Requirement already satisfied: tensorflow-metadata in /usr/local/lib/python3.7/dist-packages (from tensorflow-datasets) (1.9.0)\n",
            "Requirement already satisfied: importlib-resources in /usr/local/lib/python3.7/dist-packages (from tensorflow-datasets) (5.9.0)\n",
            "Requirement already satisfied: protobuf>=3.12.2 in /usr/local/lib/python3.7/dist-packages (from tensorflow-datasets) (3.17.3)\n",
            "Requirement already satisfied: numpy in /usr/local/lib/python3.7/dist-packages (from tensorflow-datasets) (1.21.6)\n",
            "Requirement already satisfied: requests>=2.19.0 in /usr/local/lib/python3.7/dist-packages (from tensorflow-datasets) (2.23.0)\n",
            "Requirement already satisfied: typing-extensions in /usr/local/lib/python3.7/dist-packages (from tensorflow-datasets) (4.1.1)\n",
            "Requirement already satisfied: tqdm in /usr/local/lib/python3.7/dist-packages (from tensorflow-datasets) (4.64.0)\n",
            "Requirement already satisfied: absl-py in /usr/local/lib/python3.7/dist-packages (from tensorflow-datasets) (1.2.0)\n",
            "Requirement already satisfied: etils[epath] in /usr/local/lib/python3.7/dist-packages (from tensorflow-datasets) (0.7.1)\n",
            "Requirement already satisfied: toml in /usr/local/lib/python3.7/dist-packages (from tensorflow-datasets) (0.10.2)\n",
            "Requirement already satisfied: idna<3,>=2.5 in /usr/local/lib/python3.7/dist-packages (from requests>=2.19.0->tensorflow-datasets) (2.10)\n",
            "Requirement already satisfied: certifi>=2017.4.17 in /usr/local/lib/python3.7/dist-packages (from requests>=2.19.0->tensorflow-datasets) (2022.6.15)\n",
            "Requirement already satisfied: urllib3!=1.25.0,!=1.25.1,<1.26,>=1.21.1 in /usr/local/lib/python3.7/dist-packages (from requests>=2.19.0->tensorflow-datasets) (1.24.3)\n",
            "Requirement already satisfied: chardet<4,>=3.0.2 in /usr/local/lib/python3.7/dist-packages (from requests>=2.19.0->tensorflow-datasets) (3.0.4)\n",
            "Requirement already satisfied: zipp in /usr/local/lib/python3.7/dist-packages (from etils[epath]->tensorflow-datasets) (3.8.1)\n",
            "Requirement already satisfied: googleapis-common-protos<2,>=1.52.0 in /usr/local/lib/python3.7/dist-packages (from tensorflow-metadata->tensorflow-datasets) (1.56.4)\n",
            "Looking in indexes: https://pypi.org/simple, https://us-python.pkg.dev/colab-wheels/public/simple/\n",
            "Requirement already satisfied: tensorflow in /usr/local/lib/python3.7/dist-packages (2.8.2+zzzcolab20220719082949)\n",
            "Requirement already satisfied: libclang>=9.0.1 in /usr/local/lib/python3.7/dist-packages (from tensorflow) (14.0.6)\n",
            "Requirement already satisfied: flatbuffers>=1.12 in /usr/local/lib/python3.7/dist-packages (from tensorflow) (2.0)\n",
            "Requirement already satisfied: setuptools in /usr/local/lib/python3.7/dist-packages (from tensorflow) (57.4.0)\n",
            "Requirement already satisfied: absl-py>=0.4.0 in /usr/local/lib/python3.7/dist-packages (from tensorflow) (1.2.0)\n",
            "Requirement already satisfied: typing-extensions>=3.6.6 in /usr/local/lib/python3.7/dist-packages (from tensorflow) (4.1.1)\n",
            "Requirement already satisfied: termcolor>=1.1.0 in /usr/local/lib/python3.7/dist-packages (from tensorflow) (1.1.0)\n",
            "Requirement already satisfied: google-pasta>=0.1.1 in /usr/local/lib/python3.7/dist-packages (from tensorflow) (0.2.0)\n",
            "Requirement already satisfied: six>=1.12.0 in /usr/local/lib/python3.7/dist-packages (from tensorflow) (1.15.0)\n",
            "Requirement already satisfied: h5py>=2.9.0 in /usr/local/lib/python3.7/dist-packages (from tensorflow) (3.1.0)\n",
            "Requirement already satisfied: wrapt>=1.11.0 in /usr/local/lib/python3.7/dist-packages (from tensorflow) (1.14.1)\n",
            "Requirement already satisfied: tensorflow-estimator<2.9,>=2.8 in /usr/local/lib/python3.7/dist-packages (from tensorflow) (2.8.0)\n",
            "Requirement already satisfied: gast>=0.2.1 in /usr/local/lib/python3.7/dist-packages (from tensorflow) (0.5.3)\n",
            "Requirement already satisfied: grpcio<2.0,>=1.24.3 in /usr/local/lib/python3.7/dist-packages (from tensorflow) (1.47.0)\n",
            "Requirement already satisfied: numpy>=1.20 in /usr/local/lib/python3.7/dist-packages (from tensorflow) (1.21.6)\n",
            "Requirement already satisfied: tensorboard<2.9,>=2.8 in /usr/local/lib/python3.7/dist-packages (from tensorflow) (2.8.0)\n",
            "Requirement already satisfied: tensorflow-io-gcs-filesystem>=0.23.1 in /usr/local/lib/python3.7/dist-packages (from tensorflow) (0.26.0)\n",
            "Requirement already satisfied: astunparse>=1.6.0 in /usr/local/lib/python3.7/dist-packages (from tensorflow) (1.6.3)\n",
            "Requirement already satisfied: protobuf<3.20,>=3.9.2 in /usr/local/lib/python3.7/dist-packages (from tensorflow) (3.17.3)\n",
            "Requirement already satisfied: keras<2.9,>=2.8.0rc0 in /usr/local/lib/python3.7/dist-packages (from tensorflow) (2.8.0)\n",
            "Requirement already satisfied: keras-preprocessing>=1.1.1 in /usr/local/lib/python3.7/dist-packages (from tensorflow) (1.1.2)\n",
            "Requirement already satisfied: opt-einsum>=2.3.2 in /usr/local/lib/python3.7/dist-packages (from tensorflow) (3.3.0)\n",
            "Requirement already satisfied: wheel<1.0,>=0.23.0 in /usr/local/lib/python3.7/dist-packages (from astunparse>=1.6.0->tensorflow) (0.37.1)\n",
            "Requirement already satisfied: cached-property in /usr/local/lib/python3.7/dist-packages (from h5py>=2.9.0->tensorflow) (1.5.2)\n",
            "Requirement already satisfied: tensorboard-plugin-wit>=1.6.0 in /usr/local/lib/python3.7/dist-packages (from tensorboard<2.9,>=2.8->tensorflow) (1.8.1)\n",
            "Requirement already satisfied: google-auth-oauthlib<0.5,>=0.4.1 in /usr/local/lib/python3.7/dist-packages (from tensorboard<2.9,>=2.8->tensorflow) (0.4.6)\n",
            "Requirement already satisfied: markdown>=2.6.8 in /usr/local/lib/python3.7/dist-packages (from tensorboard<2.9,>=2.8->tensorflow) (3.4.1)\n",
            "Requirement already satisfied: tensorboard-data-server<0.7.0,>=0.6.0 in /usr/local/lib/python3.7/dist-packages (from tensorboard<2.9,>=2.8->tensorflow) (0.6.1)\n",
            "Requirement already satisfied: requests<3,>=2.21.0 in /usr/local/lib/python3.7/dist-packages (from tensorboard<2.9,>=2.8->tensorflow) (2.23.0)\n",
            "Requirement already satisfied: werkzeug>=0.11.15 in /usr/local/lib/python3.7/dist-packages (from tensorboard<2.9,>=2.8->tensorflow) (1.0.1)\n",
            "Requirement already satisfied: google-auth<3,>=1.6.3 in /usr/local/lib/python3.7/dist-packages (from tensorboard<2.9,>=2.8->tensorflow) (1.35.0)\n",
            "Requirement already satisfied: rsa<5,>=3.1.4 in /usr/local/lib/python3.7/dist-packages (from google-auth<3,>=1.6.3->tensorboard<2.9,>=2.8->tensorflow) (4.9)\n",
            "Requirement already satisfied: cachetools<5.0,>=2.0.0 in /usr/local/lib/python3.7/dist-packages (from google-auth<3,>=1.6.3->tensorboard<2.9,>=2.8->tensorflow) (4.2.4)\n",
            "Requirement already satisfied: pyasn1-modules>=0.2.1 in /usr/local/lib/python3.7/dist-packages (from google-auth<3,>=1.6.3->tensorboard<2.9,>=2.8->tensorflow) (0.2.8)\n",
            "Requirement already satisfied: requests-oauthlib>=0.7.0 in /usr/local/lib/python3.7/dist-packages (from google-auth-oauthlib<0.5,>=0.4.1->tensorboard<2.9,>=2.8->tensorflow) (1.3.1)\n",
            "Requirement already satisfied: importlib-metadata>=4.4 in /usr/local/lib/python3.7/dist-packages (from markdown>=2.6.8->tensorboard<2.9,>=2.8->tensorflow) (4.12.0)\n",
            "Requirement already satisfied: zipp>=0.5 in /usr/local/lib/python3.7/dist-packages (from importlib-metadata>=4.4->markdown>=2.6.8->tensorboard<2.9,>=2.8->tensorflow) (3.8.1)\n",
            "Requirement already satisfied: pyasn1<0.5.0,>=0.4.6 in /usr/local/lib/python3.7/dist-packages (from pyasn1-modules>=0.2.1->google-auth<3,>=1.6.3->tensorboard<2.9,>=2.8->tensorflow) (0.4.8)\n",
            "Requirement already satisfied: chardet<4,>=3.0.2 in /usr/local/lib/python3.7/dist-packages (from requests<3,>=2.21.0->tensorboard<2.9,>=2.8->tensorflow) (3.0.4)\n",
            "Requirement already satisfied: idna<3,>=2.5 in /usr/local/lib/python3.7/dist-packages (from requests<3,>=2.21.0->tensorboard<2.9,>=2.8->tensorflow) (2.10)\n",
            "Requirement already satisfied: urllib3!=1.25.0,!=1.25.1,<1.26,>=1.21.1 in /usr/local/lib/python3.7/dist-packages (from requests<3,>=2.21.0->tensorboard<2.9,>=2.8->tensorflow) (1.24.3)\n",
            "Requirement already satisfied: certifi>=2017.4.17 in /usr/local/lib/python3.7/dist-packages (from requests<3,>=2.21.0->tensorboard<2.9,>=2.8->tensorflow) (2022.6.15)\n",
            "Requirement already satisfied: oauthlib>=3.0.0 in /usr/local/lib/python3.7/dist-packages (from requests-oauthlib>=0.7.0->google-auth-oauthlib<0.5,>=0.4.1->tensorboard<2.9,>=2.8->tensorflow) (3.2.0)\n"
          ]
        }
      ],
      "source": [
        "!pip install tensorflow-datasets\n",
        "!pip install tensorflow\n",
        "import numpy as np\n",
        "import tensorflow_datasets as tfds\n",
        "\n",
        "tfds.disable_progress_bar()"
      ]
    },
    {
      "cell_type": "markdown",
      "source": [
        "## Setup\n",
        "## Importing Libraries"
      ],
      "metadata": {
        "id": "xshSh6PstXJt"
      }
    },
    {
      "cell_type": "code",
      "source": [
        "import pandas as pd \n",
        "import numpy as np\n",
        "import matplotlib.pyplot as plt\n",
        "import seaborn as sns\n",
        "import pickle\n",
        "import csv\n",
        "%matplotlib inline\n"
      ],
      "metadata": {
        "id": "EUW2W61O6ARr"
      },
      "execution_count": 6,
      "outputs": []
    },
    {
      "cell_type": "code",
      "source": [
        "data = pd.read_csv ('https://s3.amazonaws.com/amazon-reviews-pds/tsv/amazon_reviews_us_Apparel_v1_00.tsv.gz',\n",
        "                    sep='\\t',\n",
        "                    error_bad_lines=False)"
      ],
      "metadata": {
        "colab": {
          "base_uri": "https://localhost:8080/"
        },
        "id": "xttT6lLx6Gjw",
        "outputId": "8f017d61-df42-440a-8e13-ab0ffa32c583"
      },
      "execution_count": 7,
      "outputs": [
        {
          "output_type": "stream",
          "name": "stderr",
          "text": [
            "/usr/local/lib/python3.7/dist-packages/IPython/core/interactiveshell.py:3326: FutureWarning: The error_bad_lines argument has been deprecated and will be removed in a future version.\n",
            "\n",
            "\n",
            "  exec(code_obj, self.user_global_ns, self.user_ns)\n",
            "b'Skipping line 49396: expected 15 fields, saw 22\\nSkipping line 57008: expected 15 fields, saw 22\\n'\n",
            "b'Skipping line 82075: expected 15 fields, saw 22\\nSkipping line 104435: expected 15 fields, saw 22\\nSkipping line 109766: expected 15 fields, saw 22\\nSkipping line 124024: expected 15 fields, saw 22\\nSkipping line 129914: expected 15 fields, saw 22\\nSkipping line 130172: expected 15 fields, saw 22\\n'\n",
            "b'Skipping line 161515: expected 15 fields, saw 22\\n'\n",
            "b'Skipping line 230464: expected 15 fields, saw 22\\n'\n",
            "b'Skipping line 292640: expected 15 fields, saw 22\\nSkipping line 293681: expected 15 fields, saw 22\\nSkipping line 316511: expected 15 fields, saw 22\\nSkipping line 317239: expected 15 fields, saw 22\\nSkipping line 326099: expected 15 fields, saw 22\\nSkipping line 327595: expected 15 fields, saw 22\\n'\n",
            "b'Skipping line 342645: expected 15 fields, saw 22\\nSkipping line 347980: expected 15 fields, saw 22\\nSkipping line 376258: expected 15 fields, saw 22\\nSkipping line 381192: expected 15 fields, saw 22\\nSkipping line 386485: expected 15 fields, saw 22\\n'\n",
            "b'Skipping line 407400: expected 15 fields, saw 22\\nSkipping line 416310: expected 15 fields, saw 22\\nSkipping line 416980: expected 15 fields, saw 22\\nSkipping line 455682: expected 15 fields, saw 22\\n'\n",
            "b'Skipping line 472662: expected 15 fields, saw 22\\n'\n",
            "b'Skipping line 539038: expected 15 fields, saw 22\\nSkipping line 580519: expected 15 fields, saw 22\\n'\n",
            "b'Skipping line 635125: expected 15 fields, saw 22\\n'\n",
            "b'Skipping line 723898: expected 15 fields, saw 22\\nSkipping line 760157: expected 15 fields, saw 22\\n'\n",
            "b'Skipping line 789445: expected 15 fields, saw 22\\nSkipping line 796985: expected 15 fields, saw 22\\nSkipping line 810160: expected 15 fields, saw 22\\n'\n",
            "b'Skipping line 880731: expected 15 fields, saw 22\\nSkipping line 894334: expected 15 fields, saw 22\\n'\n",
            "b'Skipping line 921347: expected 15 fields, saw 22\\nSkipping line 931127: expected 15 fields, saw 22\\n'\n",
            "b'Skipping line 1008439: expected 15 fields, saw 22\\nSkipping line 1037655: expected 15 fields, saw 22\\n'\n",
            "b'Skipping line 1055998: expected 15 fields, saw 22\\n'\n",
            "b'Skipping line 1188632: expected 15 fields, saw 22\\nSkipping line 1233723: expected 15 fields, saw 22\\nSkipping line 1244463: expected 15 fields, saw 22\\n'\n",
            "b'Skipping line 1507887: expected 15 fields, saw 22\\nSkipping line 1564930: expected 15 fields, saw 22\\n'\n",
            "b'Skipping line 1807298: expected 15 fields, saw 22\\nSkipping line 1829193: expected 15 fields, saw 22\\n'\n",
            "b'Skipping line 1868798: expected 15 fields, saw 22\\n'\n",
            "b'Skipping line 1904329: expected 15 fields, saw 22\\nSkipping line 1935010: expected 15 fields, saw 22\\nSkipping line 1957592: expected 15 fields, saw 22\\nSkipping line 1965838: expected 15 fields, saw 22\\n'\n",
            "b'Skipping line 1976381: expected 15 fields, saw 22\\nSkipping line 2014993: expected 15 fields, saw 22\\n'\n",
            "b'Skipping line 2037893: expected 15 fields, saw 22\\n'\n",
            "b'Skipping line 2437394: expected 15 fields, saw 22\\n'\n",
            "b'Skipping line 2538052: expected 15 fields, saw 22\\n'\n",
            "b'Skipping line 2569847: expected 15 fields, saw 22\\n'\n",
            "b'Skipping line 2759787: expected 15 fields, saw 22\\n'\n",
            "b'Skipping line 2987929: expected 15 fields, saw 22\\n'\n",
            "b'Skipping line 3174718: expected 15 fields, saw 22\\n'\n",
            "b'Skipping line 3259703: expected 15 fields, saw 22\\n'\n",
            "b'Skipping line 3424140: expected 15 fields, saw 22\\nSkipping line 3430150: expected 15 fields, saw 22\\n'\n",
            "b'Skipping line 3489349: expected 15 fields, saw 22\\nSkipping line 3529163: expected 15 fields, saw 22\\n'\n",
            "b'Skipping line 3730489: expected 15 fields, saw 22\\n'\n",
            "b'Skipping line 4073027: expected 15 fields, saw 22\\nSkipping line 4127350: expected 15 fields, saw 22\\n'\n",
            "b'Skipping line 4508712: expected 15 fields, saw 22\\n'\n",
            "b'Skipping line 5115619: expected 15 fields, saw 22\\n'\n",
            "b'Skipping line 5279907: expected 15 fields, saw 22\\n'\n",
            "b'Skipping line 5318712: expected 15 fields, saw 22\\n'\n",
            "b'Skipping line 5432514: expected 15 fields, saw 22\\n'\n",
            "b'Skipping line 5568417: expected 15 fields, saw 22\\n'\n",
            "b'Skipping line 5840248: expected 15 fields, saw 22\\n'\n"
          ]
        }
      ]
    },
    {
      "cell_type": "code",
      "source": [
        "data.shape"
      ],
      "metadata": {
        "colab": {
          "base_uri": "https://localhost:8080/"
        },
        "id": "XAUrhbx863XA",
        "outputId": "2ecd45d2-b6f9-42c3-eae6-8c6631f012ba"
      },
      "execution_count": 8,
      "outputs": [
        {
          "output_type": "execute_result",
          "data": {
            "text/plain": [
              "(5881874, 15)"
            ]
          },
          "metadata": {},
          "execution_count": 8
        }
      ]
    },
    {
      "cell_type": "code",
      "source": [
        "data.info()"
      ],
      "metadata": {
        "colab": {
          "base_uri": "https://localhost:8080/"
        },
        "id": "LkE9m7si68rq",
        "outputId": "c5b99206-10d5-4577-b984-11a74742c4ef"
      },
      "execution_count": 9,
      "outputs": [
        {
          "output_type": "stream",
          "name": "stdout",
          "text": [
            "<class 'pandas.core.frame.DataFrame'>\n",
            "RangeIndex: 5881874 entries, 0 to 5881873\n",
            "Data columns (total 15 columns):\n",
            " #   Column             Dtype  \n",
            "---  ------             -----  \n",
            " 0   marketplace        object \n",
            " 1   customer_id        int64  \n",
            " 2   review_id          object \n",
            " 3   product_id         object \n",
            " 4   product_parent     int64  \n",
            " 5   product_title      object \n",
            " 6   product_category   object \n",
            " 7   star_rating        float64\n",
            " 8   helpful_votes      float64\n",
            " 9   total_votes        float64\n",
            " 10  vine               object \n",
            " 11  verified_purchase  object \n",
            " 12  review_headline    object \n",
            " 13  review_body        object \n",
            " 14  review_date        object \n",
            "dtypes: float64(3), int64(2), object(10)\n",
            "memory usage: 673.1+ MB\n"
          ]
        }
      ]
    },
    {
      "cell_type": "code",
      "source": [
        "numerical_columns = list(data.select_dtypes(include=['int64']).columns.values) + list(data.select_dtypes(include=['float64']).columns.values)\n",
        "categorical_columns = list(data.select_dtypes(include=['object']))\n",
        "\n",
        "# cetak variabel yang numerik\n",
        "numerical_columns"
      ],
      "metadata": {
        "colab": {
          "base_uri": "https://localhost:8080/"
        },
        "id": "00FLcNJ57B3O",
        "outputId": "5a8d6446-7627-4329-c003-636a805701f4"
      },
      "execution_count": 10,
      "outputs": [
        {
          "output_type": "execute_result",
          "data": {
            "text/plain": [
              "['customer_id',\n",
              " 'product_parent',\n",
              " 'star_rating',\n",
              " 'helpful_votes',\n",
              " 'total_votes']"
            ]
          },
          "metadata": {},
          "execution_count": 10
        }
      ]
    },
    {
      "cell_type": "code",
      "source": [
        "# cetak variabel yang kategorikal\n",
        "categorical_columns"
      ],
      "metadata": {
        "colab": {
          "base_uri": "https://localhost:8080/"
        },
        "id": "aN8Vg8PJ7GaZ",
        "outputId": "a71ce748-431b-4114-f631-2189cdcb84a5"
      },
      "execution_count": 11,
      "outputs": [
        {
          "output_type": "execute_result",
          "data": {
            "text/plain": [
              "['marketplace',\n",
              " 'review_id',\n",
              " 'product_id',\n",
              " 'product_title',\n",
              " 'product_category',\n",
              " 'vine',\n",
              " 'verified_purchase',\n",
              " 'review_headline',\n",
              " 'review_body',\n",
              " 'review_date']"
            ]
          },
          "metadata": {},
          "execution_count": 11
        }
      ]
    },
    {
      "cell_type": "code",
      "source": [
        "data.head()"
      ],
      "metadata": {
        "colab": {
          "base_uri": "https://localhost:8080/",
          "height": 617
        },
        "id": "_vNpvYZv7JbC",
        "outputId": "f22952d1-7120-4ce4-82ce-df62775a1cf5"
      },
      "execution_count": 12,
      "outputs": [
        {
          "output_type": "execute_result",
          "data": {
            "text/plain": [
              "  marketplace  customer_id       review_id  product_id  product_parent  \\\n",
              "0          US     32158956  R1KKOXHNI8MSXU  B01KL6O72Y        24485154   \n",
              "1          US      2714559  R26SP2OPDK4HT7  B01ID3ZS5W       363128556   \n",
              "2          US     12608825   RWQEDYAX373I1  B01I497BGY       811958549   \n",
              "3          US     25482800  R231YI7R4GPF6J  B01HDXFZK6       692205728   \n",
              "4          US      9310286  R3KO3W45DD0L1K  B01G6MBEBY       431150422   \n",
              "\n",
              "                                       product_title product_category  \\\n",
              "0  Easy Tool Stainless Steel Fruit Pineapple Core...          Apparel   \n",
              "1  V28 Women Cowl Neck Knit Stretchable Elasticit...          Apparel   \n",
              "2  James Fiallo Men's 12-Pairs Low Cut Athletic S...          Apparel   \n",
              "3  Belfry Gangster 100% Wool Stain-Resistant Crus...          Apparel   \n",
              "4  JAEDEN Women's Beaded Spaghetti Straps Sexy Lo...          Apparel   \n",
              "\n",
              "   star_rating  helpful_votes  total_votes vine verified_purchase  \\\n",
              "0          4.0            0.0          0.0    N                 Y   \n",
              "1          5.0            1.0          2.0    N                 Y   \n",
              "2          5.0            0.0          0.0    N                 Y   \n",
              "3          5.0            0.0          0.0    N                 Y   \n",
              "4          5.0            0.0          0.0    N                 Y   \n",
              "\n",
              "                                     review_headline  \\\n",
              "0  ★ THESE REALLY DO WORK GREAT WITH SOME TWEAKING ★   \n",
              "1                    Favorite for winter. Very warm!   \n",
              "2                         Great Socks for the money.   \n",
              "3                                         Slick hat!   \n",
              "4                               I would do it again!   \n",
              "\n",
              "                                         review_body review_date  \n",
              "0  These Really Do Work Great, But You Do Need To...  2013-01-14  \n",
              "1  I love this dress. Absolute favorite for winte...  2014-03-04  \n",
              "2  Nice socks, great colors, just enough support ...  2015-07-12  \n",
              "3  I bought this for my husband and WOW, this is ...  2015-06-03  \n",
              "4  Perfect dress and the customer service was awe...  2015-06-12  "
            ],
            "text/html": [
              "\n",
              "  <div id=\"df-f5fe6394-c097-46ca-97d3-27b231dabfcd\">\n",
              "    <div class=\"colab-df-container\">\n",
              "      <div>\n",
              "<style scoped>\n",
              "    .dataframe tbody tr th:only-of-type {\n",
              "        vertical-align: middle;\n",
              "    }\n",
              "\n",
              "    .dataframe tbody tr th {\n",
              "        vertical-align: top;\n",
              "    }\n",
              "\n",
              "    .dataframe thead th {\n",
              "        text-align: right;\n",
              "    }\n",
              "</style>\n",
              "<table border=\"1\" class=\"dataframe\">\n",
              "  <thead>\n",
              "    <tr style=\"text-align: right;\">\n",
              "      <th></th>\n",
              "      <th>marketplace</th>\n",
              "      <th>customer_id</th>\n",
              "      <th>review_id</th>\n",
              "      <th>product_id</th>\n",
              "      <th>product_parent</th>\n",
              "      <th>product_title</th>\n",
              "      <th>product_category</th>\n",
              "      <th>star_rating</th>\n",
              "      <th>helpful_votes</th>\n",
              "      <th>total_votes</th>\n",
              "      <th>vine</th>\n",
              "      <th>verified_purchase</th>\n",
              "      <th>review_headline</th>\n",
              "      <th>review_body</th>\n",
              "      <th>review_date</th>\n",
              "    </tr>\n",
              "  </thead>\n",
              "  <tbody>\n",
              "    <tr>\n",
              "      <th>0</th>\n",
              "      <td>US</td>\n",
              "      <td>32158956</td>\n",
              "      <td>R1KKOXHNI8MSXU</td>\n",
              "      <td>B01KL6O72Y</td>\n",
              "      <td>24485154</td>\n",
              "      <td>Easy Tool Stainless Steel Fruit Pineapple Core...</td>\n",
              "      <td>Apparel</td>\n",
              "      <td>4.0</td>\n",
              "      <td>0.0</td>\n",
              "      <td>0.0</td>\n",
              "      <td>N</td>\n",
              "      <td>Y</td>\n",
              "      <td>★ THESE REALLY DO WORK GREAT WITH SOME TWEAKING ★</td>\n",
              "      <td>These Really Do Work Great, But You Do Need To...</td>\n",
              "      <td>2013-01-14</td>\n",
              "    </tr>\n",
              "    <tr>\n",
              "      <th>1</th>\n",
              "      <td>US</td>\n",
              "      <td>2714559</td>\n",
              "      <td>R26SP2OPDK4HT7</td>\n",
              "      <td>B01ID3ZS5W</td>\n",
              "      <td>363128556</td>\n",
              "      <td>V28 Women Cowl Neck Knit Stretchable Elasticit...</td>\n",
              "      <td>Apparel</td>\n",
              "      <td>5.0</td>\n",
              "      <td>1.0</td>\n",
              "      <td>2.0</td>\n",
              "      <td>N</td>\n",
              "      <td>Y</td>\n",
              "      <td>Favorite for winter. Very warm!</td>\n",
              "      <td>I love this dress. Absolute favorite for winte...</td>\n",
              "      <td>2014-03-04</td>\n",
              "    </tr>\n",
              "    <tr>\n",
              "      <th>2</th>\n",
              "      <td>US</td>\n",
              "      <td>12608825</td>\n",
              "      <td>RWQEDYAX373I1</td>\n",
              "      <td>B01I497BGY</td>\n",
              "      <td>811958549</td>\n",
              "      <td>James Fiallo Men's 12-Pairs Low Cut Athletic S...</td>\n",
              "      <td>Apparel</td>\n",
              "      <td>5.0</td>\n",
              "      <td>0.0</td>\n",
              "      <td>0.0</td>\n",
              "      <td>N</td>\n",
              "      <td>Y</td>\n",
              "      <td>Great Socks for the money.</td>\n",
              "      <td>Nice socks, great colors, just enough support ...</td>\n",
              "      <td>2015-07-12</td>\n",
              "    </tr>\n",
              "    <tr>\n",
              "      <th>3</th>\n",
              "      <td>US</td>\n",
              "      <td>25482800</td>\n",
              "      <td>R231YI7R4GPF6J</td>\n",
              "      <td>B01HDXFZK6</td>\n",
              "      <td>692205728</td>\n",
              "      <td>Belfry Gangster 100% Wool Stain-Resistant Crus...</td>\n",
              "      <td>Apparel</td>\n",
              "      <td>5.0</td>\n",
              "      <td>0.0</td>\n",
              "      <td>0.0</td>\n",
              "      <td>N</td>\n",
              "      <td>Y</td>\n",
              "      <td>Slick hat!</td>\n",
              "      <td>I bought this for my husband and WOW, this is ...</td>\n",
              "      <td>2015-06-03</td>\n",
              "    </tr>\n",
              "    <tr>\n",
              "      <th>4</th>\n",
              "      <td>US</td>\n",
              "      <td>9310286</td>\n",
              "      <td>R3KO3W45DD0L1K</td>\n",
              "      <td>B01G6MBEBY</td>\n",
              "      <td>431150422</td>\n",
              "      <td>JAEDEN Women's Beaded Spaghetti Straps Sexy Lo...</td>\n",
              "      <td>Apparel</td>\n",
              "      <td>5.0</td>\n",
              "      <td>0.0</td>\n",
              "      <td>0.0</td>\n",
              "      <td>N</td>\n",
              "      <td>Y</td>\n",
              "      <td>I would do it again!</td>\n",
              "      <td>Perfect dress and the customer service was awe...</td>\n",
              "      <td>2015-06-12</td>\n",
              "    </tr>\n",
              "  </tbody>\n",
              "</table>\n",
              "</div>\n",
              "      <button class=\"colab-df-convert\" onclick=\"convertToInteractive('df-f5fe6394-c097-46ca-97d3-27b231dabfcd')\"\n",
              "              title=\"Convert this dataframe to an interactive table.\"\n",
              "              style=\"display:none;\">\n",
              "        \n",
              "  <svg xmlns=\"http://www.w3.org/2000/svg\" height=\"24px\"viewBox=\"0 0 24 24\"\n",
              "       width=\"24px\">\n",
              "    <path d=\"M0 0h24v24H0V0z\" fill=\"none\"/>\n",
              "    <path d=\"M18.56 5.44l.94 2.06.94-2.06 2.06-.94-2.06-.94-.94-2.06-.94 2.06-2.06.94zm-11 1L8.5 8.5l.94-2.06 2.06-.94-2.06-.94L8.5 2.5l-.94 2.06-2.06.94zm10 10l.94 2.06.94-2.06 2.06-.94-2.06-.94-.94-2.06-.94 2.06-2.06.94z\"/><path d=\"M17.41 7.96l-1.37-1.37c-.4-.4-.92-.59-1.43-.59-.52 0-1.04.2-1.43.59L10.3 9.45l-7.72 7.72c-.78.78-.78 2.05 0 2.83L4 21.41c.39.39.9.59 1.41.59.51 0 1.02-.2 1.41-.59l7.78-7.78 2.81-2.81c.8-.78.8-2.07 0-2.86zM5.41 20L4 18.59l7.72-7.72 1.47 1.35L5.41 20z\"/>\n",
              "  </svg>\n",
              "      </button>\n",
              "      \n",
              "  <style>\n",
              "    .colab-df-container {\n",
              "      display:flex;\n",
              "      flex-wrap:wrap;\n",
              "      gap: 12px;\n",
              "    }\n",
              "\n",
              "    .colab-df-convert {\n",
              "      background-color: #E8F0FE;\n",
              "      border: none;\n",
              "      border-radius: 50%;\n",
              "      cursor: pointer;\n",
              "      display: none;\n",
              "      fill: #1967D2;\n",
              "      height: 32px;\n",
              "      padding: 0 0 0 0;\n",
              "      width: 32px;\n",
              "    }\n",
              "\n",
              "    .colab-df-convert:hover {\n",
              "      background-color: #E2EBFA;\n",
              "      box-shadow: 0px 1px 2px rgba(60, 64, 67, 0.3), 0px 1px 3px 1px rgba(60, 64, 67, 0.15);\n",
              "      fill: #174EA6;\n",
              "    }\n",
              "\n",
              "    [theme=dark] .colab-df-convert {\n",
              "      background-color: #3B4455;\n",
              "      fill: #D2E3FC;\n",
              "    }\n",
              "\n",
              "    [theme=dark] .colab-df-convert:hover {\n",
              "      background-color: #434B5C;\n",
              "      box-shadow: 0px 1px 3px 1px rgba(0, 0, 0, 0.15);\n",
              "      filter: drop-shadow(0px 1px 2px rgba(0, 0, 0, 0.3));\n",
              "      fill: #FFFFFF;\n",
              "    }\n",
              "  </style>\n",
              "\n",
              "      <script>\n",
              "        const buttonEl =\n",
              "          document.querySelector('#df-f5fe6394-c097-46ca-97d3-27b231dabfcd button.colab-df-convert');\n",
              "        buttonEl.style.display =\n",
              "          google.colab.kernel.accessAllowed ? 'block' : 'none';\n",
              "\n",
              "        async function convertToInteractive(key) {\n",
              "          const element = document.querySelector('#df-f5fe6394-c097-46ca-97d3-27b231dabfcd');\n",
              "          const dataTable =\n",
              "            await google.colab.kernel.invokeFunction('convertToInteractive',\n",
              "                                                     [key], {});\n",
              "          if (!dataTable) return;\n",
              "\n",
              "          const docLinkHtml = 'Like what you see? Visit the ' +\n",
              "            '<a target=\"_blank\" href=https://colab.research.google.com/notebooks/data_table.ipynb>data table notebook</a>'\n",
              "            + ' to learn more about interactive tables.';\n",
              "          element.innerHTML = '';\n",
              "          dataTable['output_type'] = 'display_data';\n",
              "          await google.colab.output.renderOutput(dataTable, element);\n",
              "          const docLink = document.createElement('div');\n",
              "          docLink.innerHTML = docLinkHtml;\n",
              "          element.appendChild(docLink);\n",
              "        }\n",
              "      </script>\n",
              "    </div>\n",
              "  </div>\n",
              "  "
            ]
          },
          "metadata": {},
          "execution_count": 12
        }
      ]
    },
    {
      "cell_type": "markdown",
      "source": [
        "## Deskriptif Statistik untuk atribut numerikal"
      ],
      "metadata": {
        "id": "BJHOSpWQtol5"
      }
    },
    {
      "cell_type": "code",
      "source": [
        "# deskriptif statistik untuk data latih\n",
        "data[numerical_columns].describe()"
      ],
      "metadata": {
        "colab": {
          "base_uri": "https://localhost:8080/",
          "height": 300
        },
        "id": "Cb2RJ3JQ7LMr",
        "outputId": "6dfc8c22-7d5d-47f3-cfad-ee98a2a8880f"
      },
      "execution_count": 13,
      "outputs": [
        {
          "output_type": "execute_result",
          "data": {
            "text/plain": [
              "        customer_id  product_parent   star_rating  helpful_votes   total_votes\n",
              "count  5.881874e+06    5.881874e+06  5.881873e+06   5.881873e+06  5.881873e+06\n",
              "mean   2.538800e+07    5.029080e+08  4.105261e+00   9.742111e-01  1.165795e+00\n",
              "std    1.576273e+07    2.889382e+08  1.259230e+00   2.071668e+01  2.125568e+01\n",
              "min    1.000300e+04    6.650000e+02  1.000000e+00   0.000000e+00  0.000000e+00\n",
              "25%    1.239497e+07    2.520753e+08  4.000000e+00   0.000000e+00  0.000000e+00\n",
              "50%    2.336791e+07    5.049314e+08  5.000000e+00   0.000000e+00  0.000000e+00\n",
              "75%    4.013374e+07    7.551277e+08  5.000000e+00   0.000000e+00  1.000000e+00\n",
              "max    5.309656e+07    9.999979e+08  5.000000e+00   4.127800e+04  4.188900e+04"
            ],
            "text/html": [
              "\n",
              "  <div id=\"df-c2d8cc83-82fc-473b-a7e1-3e0591264389\">\n",
              "    <div class=\"colab-df-container\">\n",
              "      <div>\n",
              "<style scoped>\n",
              "    .dataframe tbody tr th:only-of-type {\n",
              "        vertical-align: middle;\n",
              "    }\n",
              "\n",
              "    .dataframe tbody tr th {\n",
              "        vertical-align: top;\n",
              "    }\n",
              "\n",
              "    .dataframe thead th {\n",
              "        text-align: right;\n",
              "    }\n",
              "</style>\n",
              "<table border=\"1\" class=\"dataframe\">\n",
              "  <thead>\n",
              "    <tr style=\"text-align: right;\">\n",
              "      <th></th>\n",
              "      <th>customer_id</th>\n",
              "      <th>product_parent</th>\n",
              "      <th>star_rating</th>\n",
              "      <th>helpful_votes</th>\n",
              "      <th>total_votes</th>\n",
              "    </tr>\n",
              "  </thead>\n",
              "  <tbody>\n",
              "    <tr>\n",
              "      <th>count</th>\n",
              "      <td>5.881874e+06</td>\n",
              "      <td>5.881874e+06</td>\n",
              "      <td>5.881873e+06</td>\n",
              "      <td>5.881873e+06</td>\n",
              "      <td>5.881873e+06</td>\n",
              "    </tr>\n",
              "    <tr>\n",
              "      <th>mean</th>\n",
              "      <td>2.538800e+07</td>\n",
              "      <td>5.029080e+08</td>\n",
              "      <td>4.105261e+00</td>\n",
              "      <td>9.742111e-01</td>\n",
              "      <td>1.165795e+00</td>\n",
              "    </tr>\n",
              "    <tr>\n",
              "      <th>std</th>\n",
              "      <td>1.576273e+07</td>\n",
              "      <td>2.889382e+08</td>\n",
              "      <td>1.259230e+00</td>\n",
              "      <td>2.071668e+01</td>\n",
              "      <td>2.125568e+01</td>\n",
              "    </tr>\n",
              "    <tr>\n",
              "      <th>min</th>\n",
              "      <td>1.000300e+04</td>\n",
              "      <td>6.650000e+02</td>\n",
              "      <td>1.000000e+00</td>\n",
              "      <td>0.000000e+00</td>\n",
              "      <td>0.000000e+00</td>\n",
              "    </tr>\n",
              "    <tr>\n",
              "      <th>25%</th>\n",
              "      <td>1.239497e+07</td>\n",
              "      <td>2.520753e+08</td>\n",
              "      <td>4.000000e+00</td>\n",
              "      <td>0.000000e+00</td>\n",
              "      <td>0.000000e+00</td>\n",
              "    </tr>\n",
              "    <tr>\n",
              "      <th>50%</th>\n",
              "      <td>2.336791e+07</td>\n",
              "      <td>5.049314e+08</td>\n",
              "      <td>5.000000e+00</td>\n",
              "      <td>0.000000e+00</td>\n",
              "      <td>0.000000e+00</td>\n",
              "    </tr>\n",
              "    <tr>\n",
              "      <th>75%</th>\n",
              "      <td>4.013374e+07</td>\n",
              "      <td>7.551277e+08</td>\n",
              "      <td>5.000000e+00</td>\n",
              "      <td>0.000000e+00</td>\n",
              "      <td>1.000000e+00</td>\n",
              "    </tr>\n",
              "    <tr>\n",
              "      <th>max</th>\n",
              "      <td>5.309656e+07</td>\n",
              "      <td>9.999979e+08</td>\n",
              "      <td>5.000000e+00</td>\n",
              "      <td>4.127800e+04</td>\n",
              "      <td>4.188900e+04</td>\n",
              "    </tr>\n",
              "  </tbody>\n",
              "</table>\n",
              "</div>\n",
              "      <button class=\"colab-df-convert\" onclick=\"convertToInteractive('df-c2d8cc83-82fc-473b-a7e1-3e0591264389')\"\n",
              "              title=\"Convert this dataframe to an interactive table.\"\n",
              "              style=\"display:none;\">\n",
              "        \n",
              "  <svg xmlns=\"http://www.w3.org/2000/svg\" height=\"24px\"viewBox=\"0 0 24 24\"\n",
              "       width=\"24px\">\n",
              "    <path d=\"M0 0h24v24H0V0z\" fill=\"none\"/>\n",
              "    <path d=\"M18.56 5.44l.94 2.06.94-2.06 2.06-.94-2.06-.94-.94-2.06-.94 2.06-2.06.94zm-11 1L8.5 8.5l.94-2.06 2.06-.94-2.06-.94L8.5 2.5l-.94 2.06-2.06.94zm10 10l.94 2.06.94-2.06 2.06-.94-2.06-.94-.94-2.06-.94 2.06-2.06.94z\"/><path d=\"M17.41 7.96l-1.37-1.37c-.4-.4-.92-.59-1.43-.59-.52 0-1.04.2-1.43.59L10.3 9.45l-7.72 7.72c-.78.78-.78 2.05 0 2.83L4 21.41c.39.39.9.59 1.41.59.51 0 1.02-.2 1.41-.59l7.78-7.78 2.81-2.81c.8-.78.8-2.07 0-2.86zM5.41 20L4 18.59l7.72-7.72 1.47 1.35L5.41 20z\"/>\n",
              "  </svg>\n",
              "      </button>\n",
              "      \n",
              "  <style>\n",
              "    .colab-df-container {\n",
              "      display:flex;\n",
              "      flex-wrap:wrap;\n",
              "      gap: 12px;\n",
              "    }\n",
              "\n",
              "    .colab-df-convert {\n",
              "      background-color: #E8F0FE;\n",
              "      border: none;\n",
              "      border-radius: 50%;\n",
              "      cursor: pointer;\n",
              "      display: none;\n",
              "      fill: #1967D2;\n",
              "      height: 32px;\n",
              "      padding: 0 0 0 0;\n",
              "      width: 32px;\n",
              "    }\n",
              "\n",
              "    .colab-df-convert:hover {\n",
              "      background-color: #E2EBFA;\n",
              "      box-shadow: 0px 1px 2px rgba(60, 64, 67, 0.3), 0px 1px 3px 1px rgba(60, 64, 67, 0.15);\n",
              "      fill: #174EA6;\n",
              "    }\n",
              "\n",
              "    [theme=dark] .colab-df-convert {\n",
              "      background-color: #3B4455;\n",
              "      fill: #D2E3FC;\n",
              "    }\n",
              "\n",
              "    [theme=dark] .colab-df-convert:hover {\n",
              "      background-color: #434B5C;\n",
              "      box-shadow: 0px 1px 3px 1px rgba(0, 0, 0, 0.15);\n",
              "      filter: drop-shadow(0px 1px 2px rgba(0, 0, 0, 0.3));\n",
              "      fill: #FFFFFF;\n",
              "    }\n",
              "  </style>\n",
              "\n",
              "      <script>\n",
              "        const buttonEl =\n",
              "          document.querySelector('#df-c2d8cc83-82fc-473b-a7e1-3e0591264389 button.colab-df-convert');\n",
              "        buttonEl.style.display =\n",
              "          google.colab.kernel.accessAllowed ? 'block' : 'none';\n",
              "\n",
              "        async function convertToInteractive(key) {\n",
              "          const element = document.querySelector('#df-c2d8cc83-82fc-473b-a7e1-3e0591264389');\n",
              "          const dataTable =\n",
              "            await google.colab.kernel.invokeFunction('convertToInteractive',\n",
              "                                                     [key], {});\n",
              "          if (!dataTable) return;\n",
              "\n",
              "          const docLinkHtml = 'Like what you see? Visit the ' +\n",
              "            '<a target=\"_blank\" href=https://colab.research.google.com/notebooks/data_table.ipynb>data table notebook</a>'\n",
              "            + ' to learn more about interactive tables.';\n",
              "          element.innerHTML = '';\n",
              "          dataTable['output_type'] = 'display_data';\n",
              "          await google.colab.output.renderOutput(dataTable, element);\n",
              "          const docLink = document.createElement('div');\n",
              "          docLink.innerHTML = docLinkHtml;\n",
              "          element.appendChild(docLink);\n",
              "        }\n",
              "      </script>\n",
              "    </div>\n",
              "  </div>\n",
              "  "
            ]
          },
          "metadata": {},
          "execution_count": 13
        }
      ]
    },
    {
      "cell_type": "markdown",
      "source": [
        "## Mengetahui jumlah data untuk masing-masing katagori"
      ],
      "metadata": {
        "id": "opl5SGOuts43"
      }
    },
    {
      "cell_type": "code",
      "source": [
        "data.groupby('verified_purchase').count()"
      ],
      "metadata": {
        "colab": {
          "base_uri": "https://localhost:8080/",
          "height": 207
        },
        "id": "ZClEdJYO7Pef",
        "outputId": "b4345c6b-a003-4cba-ae04-a8db1caf8ee1"
      },
      "execution_count": 14,
      "outputs": [
        {
          "output_type": "execute_result",
          "data": {
            "text/plain": [
              "                   marketplace  customer_id  review_id  product_id  \\\n",
              "verified_purchase                                                    \n",
              "N                       591569       591569     591569      591569   \n",
              "Y                      5290304      5290304    5290304     5290304   \n",
              "\n",
              "                   product_parent  product_title  product_category  \\\n",
              "verified_purchase                                                    \n",
              "N                          591569         591568            591569   \n",
              "Y                         5290304        5290293           5290304   \n",
              "\n",
              "                   star_rating  helpful_votes  total_votes     vine  \\\n",
              "verified_purchase                                                     \n",
              "N                       591569         591569       591569   591569   \n",
              "Y                      5290304        5290304      5290304  5290304   \n",
              "\n",
              "                   review_headline  review_body  review_date  \n",
              "verified_purchase                                             \n",
              "N                           591562       591508       591556  \n",
              "Y                          5290256      5289581      5290209  "
            ],
            "text/html": [
              "\n",
              "  <div id=\"df-43898726-b6c1-48f0-955b-1675d0a2d77e\">\n",
              "    <div class=\"colab-df-container\">\n",
              "      <div>\n",
              "<style scoped>\n",
              "    .dataframe tbody tr th:only-of-type {\n",
              "        vertical-align: middle;\n",
              "    }\n",
              "\n",
              "    .dataframe tbody tr th {\n",
              "        vertical-align: top;\n",
              "    }\n",
              "\n",
              "    .dataframe thead th {\n",
              "        text-align: right;\n",
              "    }\n",
              "</style>\n",
              "<table border=\"1\" class=\"dataframe\">\n",
              "  <thead>\n",
              "    <tr style=\"text-align: right;\">\n",
              "      <th></th>\n",
              "      <th>marketplace</th>\n",
              "      <th>customer_id</th>\n",
              "      <th>review_id</th>\n",
              "      <th>product_id</th>\n",
              "      <th>product_parent</th>\n",
              "      <th>product_title</th>\n",
              "      <th>product_category</th>\n",
              "      <th>star_rating</th>\n",
              "      <th>helpful_votes</th>\n",
              "      <th>total_votes</th>\n",
              "      <th>vine</th>\n",
              "      <th>review_headline</th>\n",
              "      <th>review_body</th>\n",
              "      <th>review_date</th>\n",
              "    </tr>\n",
              "    <tr>\n",
              "      <th>verified_purchase</th>\n",
              "      <th></th>\n",
              "      <th></th>\n",
              "      <th></th>\n",
              "      <th></th>\n",
              "      <th></th>\n",
              "      <th></th>\n",
              "      <th></th>\n",
              "      <th></th>\n",
              "      <th></th>\n",
              "      <th></th>\n",
              "      <th></th>\n",
              "      <th></th>\n",
              "      <th></th>\n",
              "      <th></th>\n",
              "    </tr>\n",
              "  </thead>\n",
              "  <tbody>\n",
              "    <tr>\n",
              "      <th>N</th>\n",
              "      <td>591569</td>\n",
              "      <td>591569</td>\n",
              "      <td>591569</td>\n",
              "      <td>591569</td>\n",
              "      <td>591569</td>\n",
              "      <td>591568</td>\n",
              "      <td>591569</td>\n",
              "      <td>591569</td>\n",
              "      <td>591569</td>\n",
              "      <td>591569</td>\n",
              "      <td>591569</td>\n",
              "      <td>591562</td>\n",
              "      <td>591508</td>\n",
              "      <td>591556</td>\n",
              "    </tr>\n",
              "    <tr>\n",
              "      <th>Y</th>\n",
              "      <td>5290304</td>\n",
              "      <td>5290304</td>\n",
              "      <td>5290304</td>\n",
              "      <td>5290304</td>\n",
              "      <td>5290304</td>\n",
              "      <td>5290293</td>\n",
              "      <td>5290304</td>\n",
              "      <td>5290304</td>\n",
              "      <td>5290304</td>\n",
              "      <td>5290304</td>\n",
              "      <td>5290304</td>\n",
              "      <td>5290256</td>\n",
              "      <td>5289581</td>\n",
              "      <td>5290209</td>\n",
              "    </tr>\n",
              "  </tbody>\n",
              "</table>\n",
              "</div>\n",
              "      <button class=\"colab-df-convert\" onclick=\"convertToInteractive('df-43898726-b6c1-48f0-955b-1675d0a2d77e')\"\n",
              "              title=\"Convert this dataframe to an interactive table.\"\n",
              "              style=\"display:none;\">\n",
              "        \n",
              "  <svg xmlns=\"http://www.w3.org/2000/svg\" height=\"24px\"viewBox=\"0 0 24 24\"\n",
              "       width=\"24px\">\n",
              "    <path d=\"M0 0h24v24H0V0z\" fill=\"none\"/>\n",
              "    <path d=\"M18.56 5.44l.94 2.06.94-2.06 2.06-.94-2.06-.94-.94-2.06-.94 2.06-2.06.94zm-11 1L8.5 8.5l.94-2.06 2.06-.94-2.06-.94L8.5 2.5l-.94 2.06-2.06.94zm10 10l.94 2.06.94-2.06 2.06-.94-2.06-.94-.94-2.06-.94 2.06-2.06.94z\"/><path d=\"M17.41 7.96l-1.37-1.37c-.4-.4-.92-.59-1.43-.59-.52 0-1.04.2-1.43.59L10.3 9.45l-7.72 7.72c-.78.78-.78 2.05 0 2.83L4 21.41c.39.39.9.59 1.41.59.51 0 1.02-.2 1.41-.59l7.78-7.78 2.81-2.81c.8-.78.8-2.07 0-2.86zM5.41 20L4 18.59l7.72-7.72 1.47 1.35L5.41 20z\"/>\n",
              "  </svg>\n",
              "      </button>\n",
              "      \n",
              "  <style>\n",
              "    .colab-df-container {\n",
              "      display:flex;\n",
              "      flex-wrap:wrap;\n",
              "      gap: 12px;\n",
              "    }\n",
              "\n",
              "    .colab-df-convert {\n",
              "      background-color: #E8F0FE;\n",
              "      border: none;\n",
              "      border-radius: 50%;\n",
              "      cursor: pointer;\n",
              "      display: none;\n",
              "      fill: #1967D2;\n",
              "      height: 32px;\n",
              "      padding: 0 0 0 0;\n",
              "      width: 32px;\n",
              "    }\n",
              "\n",
              "    .colab-df-convert:hover {\n",
              "      background-color: #E2EBFA;\n",
              "      box-shadow: 0px 1px 2px rgba(60, 64, 67, 0.3), 0px 1px 3px 1px rgba(60, 64, 67, 0.15);\n",
              "      fill: #174EA6;\n",
              "    }\n",
              "\n",
              "    [theme=dark] .colab-df-convert {\n",
              "      background-color: #3B4455;\n",
              "      fill: #D2E3FC;\n",
              "    }\n",
              "\n",
              "    [theme=dark] .colab-df-convert:hover {\n",
              "      background-color: #434B5C;\n",
              "      box-shadow: 0px 1px 3px 1px rgba(0, 0, 0, 0.15);\n",
              "      filter: drop-shadow(0px 1px 2px rgba(0, 0, 0, 0.3));\n",
              "      fill: #FFFFFF;\n",
              "    }\n",
              "  </style>\n",
              "\n",
              "      <script>\n",
              "        const buttonEl =\n",
              "          document.querySelector('#df-43898726-b6c1-48f0-955b-1675d0a2d77e button.colab-df-convert');\n",
              "        buttonEl.style.display =\n",
              "          google.colab.kernel.accessAllowed ? 'block' : 'none';\n",
              "\n",
              "        async function convertToInteractive(key) {\n",
              "          const element = document.querySelector('#df-43898726-b6c1-48f0-955b-1675d0a2d77e');\n",
              "          const dataTable =\n",
              "            await google.colab.kernel.invokeFunction('convertToInteractive',\n",
              "                                                     [key], {});\n",
              "          if (!dataTable) return;\n",
              "\n",
              "          const docLinkHtml = 'Like what you see? Visit the ' +\n",
              "            '<a target=\"_blank\" href=https://colab.research.google.com/notebooks/data_table.ipynb>data table notebook</a>'\n",
              "            + ' to learn more about interactive tables.';\n",
              "          element.innerHTML = '';\n",
              "          dataTable['output_type'] = 'display_data';\n",
              "          await google.colab.output.renderOutput(dataTable, element);\n",
              "          const docLink = document.createElement('div');\n",
              "          docLink.innerHTML = docLinkHtml;\n",
              "          element.appendChild(docLink);\n",
              "        }\n",
              "      </script>\n",
              "    </div>\n",
              "  </div>\n",
              "  "
            ]
          },
          "metadata": {},
          "execution_count": 14
        }
      ]
    },
    {
      "cell_type": "code",
      "source": [
        "data.groupby('product_category').count()"
      ],
      "metadata": {
        "colab": {
          "base_uri": "https://localhost:8080/",
          "height": 207
        },
        "id": "3nNDfd9L7nkZ",
        "outputId": "b930b739-1be9-44a9-d1e5-18b47e7af0c7"
      },
      "execution_count": 15,
      "outputs": [
        {
          "output_type": "execute_result",
          "data": {
            "text/plain": [
              "                  marketplace  customer_id  review_id  product_id  \\\n",
              "product_category                                                    \n",
              "2011-08-04                  1            1          1           1   \n",
              "Apparel               5881873      5881873    5881873     5881873   \n",
              "\n",
              "                  product_parent  product_title  star_rating  helpful_votes  \\\n",
              "product_category                                                              \n",
              "2011-08-04                     1              1            0              0   \n",
              "Apparel                  5881873        5881861      5881873        5881873   \n",
              "\n",
              "                  total_votes     vine  verified_purchase  review_headline  \\\n",
              "product_category                                                             \n",
              "2011-08-04                  0        0                  0                0   \n",
              "Apparel               5881873  5881873            5881873          5881818   \n",
              "\n",
              "                  review_body  review_date  \n",
              "product_category                            \n",
              "2011-08-04                  0            0  \n",
              "Apparel               5881089      5881765  "
            ],
            "text/html": [
              "\n",
              "  <div id=\"df-55dd013a-a9ec-4fea-a10e-97f440d1956f\">\n",
              "    <div class=\"colab-df-container\">\n",
              "      <div>\n",
              "<style scoped>\n",
              "    .dataframe tbody tr th:only-of-type {\n",
              "        vertical-align: middle;\n",
              "    }\n",
              "\n",
              "    .dataframe tbody tr th {\n",
              "        vertical-align: top;\n",
              "    }\n",
              "\n",
              "    .dataframe thead th {\n",
              "        text-align: right;\n",
              "    }\n",
              "</style>\n",
              "<table border=\"1\" class=\"dataframe\">\n",
              "  <thead>\n",
              "    <tr style=\"text-align: right;\">\n",
              "      <th></th>\n",
              "      <th>marketplace</th>\n",
              "      <th>customer_id</th>\n",
              "      <th>review_id</th>\n",
              "      <th>product_id</th>\n",
              "      <th>product_parent</th>\n",
              "      <th>product_title</th>\n",
              "      <th>star_rating</th>\n",
              "      <th>helpful_votes</th>\n",
              "      <th>total_votes</th>\n",
              "      <th>vine</th>\n",
              "      <th>verified_purchase</th>\n",
              "      <th>review_headline</th>\n",
              "      <th>review_body</th>\n",
              "      <th>review_date</th>\n",
              "    </tr>\n",
              "    <tr>\n",
              "      <th>product_category</th>\n",
              "      <th></th>\n",
              "      <th></th>\n",
              "      <th></th>\n",
              "      <th></th>\n",
              "      <th></th>\n",
              "      <th></th>\n",
              "      <th></th>\n",
              "      <th></th>\n",
              "      <th></th>\n",
              "      <th></th>\n",
              "      <th></th>\n",
              "      <th></th>\n",
              "      <th></th>\n",
              "      <th></th>\n",
              "    </tr>\n",
              "  </thead>\n",
              "  <tbody>\n",
              "    <tr>\n",
              "      <th>2011-08-04</th>\n",
              "      <td>1</td>\n",
              "      <td>1</td>\n",
              "      <td>1</td>\n",
              "      <td>1</td>\n",
              "      <td>1</td>\n",
              "      <td>1</td>\n",
              "      <td>0</td>\n",
              "      <td>0</td>\n",
              "      <td>0</td>\n",
              "      <td>0</td>\n",
              "      <td>0</td>\n",
              "      <td>0</td>\n",
              "      <td>0</td>\n",
              "      <td>0</td>\n",
              "    </tr>\n",
              "    <tr>\n",
              "      <th>Apparel</th>\n",
              "      <td>5881873</td>\n",
              "      <td>5881873</td>\n",
              "      <td>5881873</td>\n",
              "      <td>5881873</td>\n",
              "      <td>5881873</td>\n",
              "      <td>5881861</td>\n",
              "      <td>5881873</td>\n",
              "      <td>5881873</td>\n",
              "      <td>5881873</td>\n",
              "      <td>5881873</td>\n",
              "      <td>5881873</td>\n",
              "      <td>5881818</td>\n",
              "      <td>5881089</td>\n",
              "      <td>5881765</td>\n",
              "    </tr>\n",
              "  </tbody>\n",
              "</table>\n",
              "</div>\n",
              "      <button class=\"colab-df-convert\" onclick=\"convertToInteractive('df-55dd013a-a9ec-4fea-a10e-97f440d1956f')\"\n",
              "              title=\"Convert this dataframe to an interactive table.\"\n",
              "              style=\"display:none;\">\n",
              "        \n",
              "  <svg xmlns=\"http://www.w3.org/2000/svg\" height=\"24px\"viewBox=\"0 0 24 24\"\n",
              "       width=\"24px\">\n",
              "    <path d=\"M0 0h24v24H0V0z\" fill=\"none\"/>\n",
              "    <path d=\"M18.56 5.44l.94 2.06.94-2.06 2.06-.94-2.06-.94-.94-2.06-.94 2.06-2.06.94zm-11 1L8.5 8.5l.94-2.06 2.06-.94-2.06-.94L8.5 2.5l-.94 2.06-2.06.94zm10 10l.94 2.06.94-2.06 2.06-.94-2.06-.94-.94-2.06-.94 2.06-2.06.94z\"/><path d=\"M17.41 7.96l-1.37-1.37c-.4-.4-.92-.59-1.43-.59-.52 0-1.04.2-1.43.59L10.3 9.45l-7.72 7.72c-.78.78-.78 2.05 0 2.83L4 21.41c.39.39.9.59 1.41.59.51 0 1.02-.2 1.41-.59l7.78-7.78 2.81-2.81c.8-.78.8-2.07 0-2.86zM5.41 20L4 18.59l7.72-7.72 1.47 1.35L5.41 20z\"/>\n",
              "  </svg>\n",
              "      </button>\n",
              "      \n",
              "  <style>\n",
              "    .colab-df-container {\n",
              "      display:flex;\n",
              "      flex-wrap:wrap;\n",
              "      gap: 12px;\n",
              "    }\n",
              "\n",
              "    .colab-df-convert {\n",
              "      background-color: #E8F0FE;\n",
              "      border: none;\n",
              "      border-radius: 50%;\n",
              "      cursor: pointer;\n",
              "      display: none;\n",
              "      fill: #1967D2;\n",
              "      height: 32px;\n",
              "      padding: 0 0 0 0;\n",
              "      width: 32px;\n",
              "    }\n",
              "\n",
              "    .colab-df-convert:hover {\n",
              "      background-color: #E2EBFA;\n",
              "      box-shadow: 0px 1px 2px rgba(60, 64, 67, 0.3), 0px 1px 3px 1px rgba(60, 64, 67, 0.15);\n",
              "      fill: #174EA6;\n",
              "    }\n",
              "\n",
              "    [theme=dark] .colab-df-convert {\n",
              "      background-color: #3B4455;\n",
              "      fill: #D2E3FC;\n",
              "    }\n",
              "\n",
              "    [theme=dark] .colab-df-convert:hover {\n",
              "      background-color: #434B5C;\n",
              "      box-shadow: 0px 1px 3px 1px rgba(0, 0, 0, 0.15);\n",
              "      filter: drop-shadow(0px 1px 2px rgba(0, 0, 0, 0.3));\n",
              "      fill: #FFFFFF;\n",
              "    }\n",
              "  </style>\n",
              "\n",
              "      <script>\n",
              "        const buttonEl =\n",
              "          document.querySelector('#df-55dd013a-a9ec-4fea-a10e-97f440d1956f button.colab-df-convert');\n",
              "        buttonEl.style.display =\n",
              "          google.colab.kernel.accessAllowed ? 'block' : 'none';\n",
              "\n",
              "        async function convertToInteractive(key) {\n",
              "          const element = document.querySelector('#df-55dd013a-a9ec-4fea-a10e-97f440d1956f');\n",
              "          const dataTable =\n",
              "            await google.colab.kernel.invokeFunction('convertToInteractive',\n",
              "                                                     [key], {});\n",
              "          if (!dataTable) return;\n",
              "\n",
              "          const docLinkHtml = 'Like what you see? Visit the ' +\n",
              "            '<a target=\"_blank\" href=https://colab.research.google.com/notebooks/data_table.ipynb>data table notebook</a>'\n",
              "            + ' to learn more about interactive tables.';\n",
              "          element.innerHTML = '';\n",
              "          dataTable['output_type'] = 'display_data';\n",
              "          await google.colab.output.renderOutput(dataTable, element);\n",
              "          const docLink = document.createElement('div');\n",
              "          docLink.innerHTML = docLinkHtml;\n",
              "          element.appendChild(docLink);\n",
              "        }\n",
              "      </script>\n",
              "    </div>\n",
              "  </div>\n",
              "  "
            ]
          },
          "metadata": {},
          "execution_count": 15
        }
      ]
    },
    {
      "cell_type": "markdown",
      "source": [
        "# Cleansing Data\n",
        "\n",
        "### Memastikan tidak ada missing values pada Kolom Kategorikal\n",
        "--------------------------------------------\n",
        "Pada keterangan dataset yang dilampirkan, missing values pada data ditandai dengan label \"unknown\" pada beberapa kolom dengan tipe kategorikal. Oleh karena, kolom kategorikal yang memuat label \"unknown\" akan diganti menjadi nan untuk menandai adanya missing values (unstandard missing values)"
      ],
      "metadata": {
        "id": "93vatyPutwy5"
      }
    },
    {
      "cell_type": "code",
      "source": [
        "# Mencetak semua nilai unik pada masing-masing kolom kategori\n",
        "for cat_col in categorical_columns:\n",
        "    print(\"Nilai unik untuk kolom \", cat_col.upper())\n",
        "    print(data[cat_col].unique())\n",
        "    print('='*30)"
      ],
      "metadata": {
        "colab": {
          "base_uri": "https://localhost:8080/"
        },
        "id": "Xz3NnBIe8LHd",
        "outputId": "477e81eb-7477-4e38-dff6-8e5fbce19236"
      },
      "execution_count": 16,
      "outputs": [
        {
          "output_type": "stream",
          "name": "stdout",
          "text": [
            "Nilai unik untuk kolom  MARKETPLACE\n",
            "['US']\n",
            "==============================\n",
            "Nilai unik untuk kolom  REVIEW_ID\n",
            "['R1KKOXHNI8MSXU' 'R26SP2OPDK4HT7' 'RWQEDYAX373I1' ... 'R3PB8K42BMNI40'\n",
            " 'R2PK1N9NG1JM4C' 'R2ORDL3TCNYNHC']\n",
            "==============================\n",
            "Nilai unik untuk kolom  PRODUCT_ID\n",
            "['B01KL6O72Y' 'B01ID3ZS5W' 'B01I497BGY' ... '0000032050' '0000032042'\n",
            " '0000032034']\n",
            "==============================\n",
            "Nilai unik untuk kolom  PRODUCT_TITLE\n",
            "['Easy Tool Stainless Steel Fruit Pineapple Corer Slicer Peeler Cut (One size, sliver)'\n",
            " 'V28 Women Cowl Neck Knit Stretchable Elasticity Long Sleeve Slim Fit Sweater Dress'\n",
            " \"James Fiallo Men's 12-Pairs Low Cut Athletic Sport Socks\" ...\n",
            " 'Adult Ballet Tutu Purple' 'Adult Tutu Assorted Colors (Turquoise)'\n",
            " 'Adult Ballet Tutu Yellow']\n",
            "==============================\n",
            "Nilai unik untuk kolom  PRODUCT_CATEGORY\n",
            "['Apparel' '2011-08-04']\n",
            "==============================\n",
            "Nilai unik untuk kolom  VINE\n",
            "['N' 'Y' nan]\n",
            "==============================\n",
            "Nilai unik untuk kolom  VERIFIED_PURCHASE\n",
            "['Y' 'N' nan]\n",
            "==============================\n",
            "Nilai unik untuk kolom  REVIEW_HEADLINE\n",
            "['★ THESE REALLY DO WORK GREAT WITH SOME TWEAKING ★'\n",
            " 'Favorite for winter. Very warm!' 'Great Socks for the money.' ...\n",
            " 'Perfect for the price point' 'Tutus'\n",
            " \"This is thick enough that you can't see through it ...\"]\n",
            "==============================\n",
            "Nilai unik untuk kolom  REVIEW_BODY\n",
            "[\"These Really Do Work Great, But You Do Need To Know a Few Things.  I've Been Using Mine For a Few Years Now.  First, I Paid a Few Dollars Less For Mine and The Price Has Jumped.  They're All Imported, so Try to Find Either a Cheaper One or One That's Extremely Well Made.  This One is Made Well Enough, If You're Careful.  This Thing Can Cut You, So Don't Let Some Kid Use It, &#34;Because It Looks Like Fun!!&#34;  You Need A Pineapple That's Big Enough.  I Can't Tell You How Many Times I Went to Wal-Mart or the Grocery Store and Their Pineapples were Just Too Small of a Diameter.  It HAS to Be Big Enough.  It's Better To Have Some Waste on The Inside Of The Husk.<br /><br />When I'm Finished Using The Pineapple Corer, Then I Cut Up the Husk Of The Pineapple To Get The Rest Of The Pineapple Cut Up and I Save The Core of the Pineapple To Go Into My Iced Tea Pitcher or Drink Pitcher (That's How They Do It In Hawaii)  When I Was In Hawaii, They Never Threw Away The Core, They Always Used It For Something.  Sometimes, They Even Grilled It, Although I've Never Tried That.  But, I Know They Did It With Honey and Some Kind of Teriyaki  People Have Also Left Chunks of Pineapple on the Husk and Grilled it Meat Side Down on the Grill.  Then, They Eat The Chunks of Grilled Pineapple and Use The Husks Like a Little Bowl..  You Don't Grill The Husk Part.  You Can Also Keep The Husk Whole, Like a Bowl and Take the Center Core Out, Then Fill It Full Of Fruit Salad or Use it as a Drink Container or Dessert Container.<br /><br />Someone Told Me They Like To Make Pineapple Greek Yogurt and Fill It, Then Freeze It a Short Time.  I've Never Tried That.  I've Made Pineapple Cheesecake and That's Delicious, but I Know It's Tricky Working With Pineapple Sometimes.  You Know, If You've Ever Tried to Make Jello & Put Pineapple In.  YIKES!!! The Bromelain in the Pineapple Keeps Your Gelatin From Setting.  It is a Great Anti-Inflammatory & Helps Your Digestive Tract & Tummy Feel Better, But That Same Enzyme Interferes with Your Jello Setting Up.<br /><br />When Washing These, Be Extra Carful and Wash Them Separate.  I Use Tooth Picks, to Get the Pineapple Out That Gets Stuck In The Little Crevices.  I Always Put The Parts Back Into The Box & Make Sure Everything is Dry.  So, That's It.  Make Sure Your Pineapple is Big Enough.  Get All Your Pineapple To Work For You.  Clean Your Corer and Protect Your Hands.  That's It.  Thank You For Reading.Same Enzyme Interferes with Your Jello Setting Up.<br /><br />When Washing These, Be Extra Carful and Wash Them Separate.  I Use Tooth Picks, to Get the Pineapple Out That Gets Stuck In The Little Crevices.  I Always Put The Parts Back Into The Box & Make Sure Everything is Dry.  So, That's It.  Make Sure Your Pineapple is Big Enough.  Get All Your Pineapple To Work For You.  Clean Your Corer and Protect Your Hands.  That's It.  Thank You For Reading.\"\n",
            " 'I love this dress. Absolute favorite for winter. Heavy material. Stretchy, shows shape well. I am 5ft 7, 120 lbs. Ordered 2-8. Fits fine. Not tight at all. But not to loose. Very confortable. I live in ND, and it keeps you warm during winter. If its not cold. You will get hot. I got it just for winter. So its perfect. About to order anothwr in different color.<br />;0)'\n",
            " 'Nice socks, great colors, just enough support for wearing with a good pair of sneakers.'\n",
            " ...\n",
            " 'Was kind of long but, had to trim it a bit to fit under my custom made tutu. The color was spot on :)'\n",
            " 'What a spectacular tutu! Very slimming.'\n",
            " \"This is thick enough that you can't see through it, but it is very long, so be sure to check the dimensions. I ended up cutting it shorter.\"]\n",
            "==============================\n",
            "Nilai unik untuk kolom  REVIEW_DATE\n",
            "['2013-01-14' '2014-03-04' '2015-07-12' ... '2000-10-19' '2000-11-01'\n",
            " '2000-10-06']\n",
            "==============================\n"
          ]
        }
      ]
    },
    {
      "cell_type": "code",
      "source": [
        "# mengganti nilai uniq pada PRODUCT_CATEGORY\n",
        "data['product_category'].replace('2011-08-04','Apparel',inplace=True)\n"
      ],
      "metadata": {
        "id": "Ojj1vJY88xMg"
      },
      "execution_count": 17,
      "outputs": []
    },
    {
      "cell_type": "markdown",
      "source": [
        "## Merangkum total missing values (nan) values"
      ],
      "metadata": {
        "id": "nWXkr7ewt97m"
      }
    },
    {
      "cell_type": "code",
      "source": [
        "# missing values pada data train\n",
        "print(\"Jumlah nan missing values atribut kategori = \",data[categorical_columns].isnull().sum().sum())\n",
        "print(\"Jumlah nan missing values atribut numerikal = \",data[numerical_columns].isnull().sum().sum())\n"
      ],
      "metadata": {
        "colab": {
          "base_uri": "https://localhost:8080/"
        },
        "id": "fFKstvfC92sa",
        "outputId": "e9bfff0d-fd7b-4cd9-ba21-c15577e6f34e"
      },
      "execution_count": 18,
      "outputs": [
        {
          "output_type": "stream",
          "name": "stdout",
          "text": [
            "Jumlah nan missing values atribut kategori =  964\n",
            "Jumlah nan missing values atribut numerikal =  3\n"
          ]
        }
      ]
    },
    {
      "cell_type": "markdown",
      "source": [
        "## Penanganan Missing Values\n",
        "Untuk data kategorikal, missing values akan diisi dengan modus dari atribut X, sedangkan untuk data numerikal missing values akan diisi dengan median dari atribut Z.\n",
        "\n",
        "### Pisahkan data yang bertipe kategorik dan numerik"
      ],
      "metadata": {
        "id": "351I4blHuHPK"
      }
    },
    {
      "cell_type": "code",
      "source": [
        "#categorical data\n",
        "data_categorical = data[categorical_columns]\n",
        "\n",
        "# numerical data\n",
        "data_numerical = data[numerical_columns]"
      ],
      "metadata": {
        "id": "m-CTe7-0958z"
      },
      "execution_count": 19,
      "outputs": []
    },
    {
      "cell_type": "markdown",
      "source": [
        "### Input untuk filling nan pada atribut kategorikal"
      ],
      "metadata": {
        "id": "zJW_AkyFuLoW"
      }
    },
    {
      "cell_type": "code",
      "source": [
        "# Machine learning process\n",
        "from sklearn.model_selection import train_test_split, cross_val_score, GridSearchCV, KFold\n",
        "from sklearn.preprocessing import LabelEncoder, MinMaxScaler, StandardScaler\n",
        "from sklearn.impute import SimpleImputer\n",
        "from sklearn.pipeline import Pipeline\n",
        "from sklearn.naive_bayes import GaussianNB\n",
        "from sklearn.tree import DecisionTreeClassifier\n",
        "from sklearn.neighbors import KNeighborsClassifier\n",
        "from sklearn.ensemble import RandomForestClassifier\n",
        "from sklearn.svm import SVC\n",
        "from sklearn.linear_model import LogisticRegression\n",
        "from sklearn import metrics\n",
        "\n",
        "\n",
        "# features analysis libraries\n",
        "from sklearn.feature_selection import SelectKBest\n",
        "from sklearn.feature_selection import f_classif\n",
        "from sklearn.feature_selection import chi2,mutual_info_classif\n",
        "from sklearn.decomposition import PCA"
      ],
      "metadata": {
        "id": "zLus_Day99z4"
      },
      "execution_count": 20,
      "outputs": []
    },
    {
      "cell_type": "markdown",
      "source": [
        "## Fit data training "
      ],
      "metadata": {
        "id": "M2Tlj_houUpl"
      }
    },
    {
      "cell_type": "code",
      "source": [
        "imputer_categorical = SimpleImputer(missing_values=np.nan, strategy='most_frequent')\n",
        "imputer_numerical = SimpleImputer(missing_values=np.nan, strategy='most_frequent')\n"
      ],
      "metadata": {
        "id": "k2NFaR8F-CCo"
      },
      "execution_count": 21,
      "outputs": []
    },
    {
      "cell_type": "code",
      "source": [
        "#Categorical\n",
        "# fit dengan data training\n",
        "imputer_categorical.fit(data_categorical)"
      ],
      "metadata": {
        "colab": {
          "base_uri": "https://localhost:8080/"
        },
        "id": "eE4JF3OI-H99",
        "outputId": "07ce901a-0822-4bdc-8969-3806cd84f10e"
      },
      "execution_count": 22,
      "outputs": [
        {
          "output_type": "execute_result",
          "data": {
            "text/plain": [
              "SimpleImputer(strategy='most_frequent')"
            ]
          },
          "metadata": {},
          "execution_count": 22
        }
      ]
    },
    {
      "cell_type": "code",
      "source": [
        "#numerical\n",
        "# fit dengan data training\n",
        "imputer_numerical.fit(data_numerical)"
      ],
      "metadata": {
        "colab": {
          "base_uri": "https://localhost:8080/"
        },
        "id": "mK3fZ8ce-OL2",
        "outputId": "db947700-bf46-4e4e-f133-1c3c833a098f"
      },
      "execution_count": 23,
      "outputs": [
        {
          "output_type": "execute_result",
          "data": {
            "text/plain": [
              "SimpleImputer(strategy='most_frequent')"
            ]
          },
          "metadata": {},
          "execution_count": 23
        }
      ]
    },
    {
      "cell_type": "code",
      "source": [
        "# transform ke data latih\n",
        "data_categorical = imputer_categorical.transform(data_categorical)\n",
        "data_numerical = imputer_numerical.transform(data_numerical)\n",
        "\n",
        "# buat hasil array ke dalam dataframe\n",
        "data_categorical = pd.DataFrame(data_categorical,columns=categorical_columns)\n",
        "data_numerical = pd.DataFrame (data_numerical,columns=numerical_columns)\n",
        "\n",
        "# Concate categorical columns dengan numerical columns\n",
        "data = pd.concat([data_categorical,data_numerical],axis=1)\n",
        "\n",
        "#Check kalau masih ada missing values terlewat\n",
        "# missing values pada data train\n",
        "print(\"Jumlah nan missing values atribut kategori = \",data[categorical_columns].isnull().sum().sum())\n",
        "print(\"Jumlah nan missing values atribut numerikal = \",data[numerical_columns].isnull().sum().sum())\n"
      ],
      "metadata": {
        "colab": {
          "base_uri": "https://localhost:8080/"
        },
        "id": "uwIBFL2t-RQY",
        "outputId": "1ce1b219-f12d-4bf7-91c9-34c8f4323429"
      },
      "execution_count": 24,
      "outputs": [
        {
          "output_type": "stream",
          "name": "stdout",
          "text": [
            "Jumlah nan missing values atribut kategori =  0\n",
            "Jumlah nan missing values atribut numerikal =  0\n"
          ]
        }
      ]
    },
    {
      "cell_type": "code",
      "source": [
        "data.head()"
      ],
      "metadata": {
        "colab": {
          "base_uri": "https://localhost:8080/",
          "height": 617
        },
        "id": "MJ8QmZ_l-ZMd",
        "outputId": "7c8a2dd0-2254-43c7-e290-1e967eb3a4e0"
      },
      "execution_count": 25,
      "outputs": [
        {
          "output_type": "execute_result",
          "data": {
            "text/plain": [
              "  marketplace       review_id  product_id  \\\n",
              "0          US  R1KKOXHNI8MSXU  B01KL6O72Y   \n",
              "1          US  R26SP2OPDK4HT7  B01ID3ZS5W   \n",
              "2          US   RWQEDYAX373I1  B01I497BGY   \n",
              "3          US  R231YI7R4GPF6J  B01HDXFZK6   \n",
              "4          US  R3KO3W45DD0L1K  B01G6MBEBY   \n",
              "\n",
              "                                       product_title product_category vine  \\\n",
              "0  Easy Tool Stainless Steel Fruit Pineapple Core...          Apparel    N   \n",
              "1  V28 Women Cowl Neck Knit Stretchable Elasticit...          Apparel    N   \n",
              "2  James Fiallo Men's 12-Pairs Low Cut Athletic S...          Apparel    N   \n",
              "3  Belfry Gangster 100% Wool Stain-Resistant Crus...          Apparel    N   \n",
              "4  JAEDEN Women's Beaded Spaghetti Straps Sexy Lo...          Apparel    N   \n",
              "\n",
              "  verified_purchase                                    review_headline  \\\n",
              "0                 Y  ★ THESE REALLY DO WORK GREAT WITH SOME TWEAKING ★   \n",
              "1                 Y                    Favorite for winter. Very warm!   \n",
              "2                 Y                         Great Socks for the money.   \n",
              "3                 Y                                         Slick hat!   \n",
              "4                 Y                               I would do it again!   \n",
              "\n",
              "                                         review_body review_date  customer_id  \\\n",
              "0  These Really Do Work Great, But You Do Need To...  2013-01-14   32158956.0   \n",
              "1  I love this dress. Absolute favorite for winte...  2014-03-04    2714559.0   \n",
              "2  Nice socks, great colors, just enough support ...  2015-07-12   12608825.0   \n",
              "3  I bought this for my husband and WOW, this is ...  2015-06-03   25482800.0   \n",
              "4  Perfect dress and the customer service was awe...  2015-06-12    9310286.0   \n",
              "\n",
              "   product_parent  star_rating  helpful_votes  total_votes  \n",
              "0      24485154.0          4.0            0.0          0.0  \n",
              "1     363128556.0          5.0            1.0          2.0  \n",
              "2     811958549.0          5.0            0.0          0.0  \n",
              "3     692205728.0          5.0            0.0          0.0  \n",
              "4     431150422.0          5.0            0.0          0.0  "
            ],
            "text/html": [
              "\n",
              "  <div id=\"df-c4b96b31-b9e4-450d-9058-cbc948ad1b19\">\n",
              "    <div class=\"colab-df-container\">\n",
              "      <div>\n",
              "<style scoped>\n",
              "    .dataframe tbody tr th:only-of-type {\n",
              "        vertical-align: middle;\n",
              "    }\n",
              "\n",
              "    .dataframe tbody tr th {\n",
              "        vertical-align: top;\n",
              "    }\n",
              "\n",
              "    .dataframe thead th {\n",
              "        text-align: right;\n",
              "    }\n",
              "</style>\n",
              "<table border=\"1\" class=\"dataframe\">\n",
              "  <thead>\n",
              "    <tr style=\"text-align: right;\">\n",
              "      <th></th>\n",
              "      <th>marketplace</th>\n",
              "      <th>review_id</th>\n",
              "      <th>product_id</th>\n",
              "      <th>product_title</th>\n",
              "      <th>product_category</th>\n",
              "      <th>vine</th>\n",
              "      <th>verified_purchase</th>\n",
              "      <th>review_headline</th>\n",
              "      <th>review_body</th>\n",
              "      <th>review_date</th>\n",
              "      <th>customer_id</th>\n",
              "      <th>product_parent</th>\n",
              "      <th>star_rating</th>\n",
              "      <th>helpful_votes</th>\n",
              "      <th>total_votes</th>\n",
              "    </tr>\n",
              "  </thead>\n",
              "  <tbody>\n",
              "    <tr>\n",
              "      <th>0</th>\n",
              "      <td>US</td>\n",
              "      <td>R1KKOXHNI8MSXU</td>\n",
              "      <td>B01KL6O72Y</td>\n",
              "      <td>Easy Tool Stainless Steel Fruit Pineapple Core...</td>\n",
              "      <td>Apparel</td>\n",
              "      <td>N</td>\n",
              "      <td>Y</td>\n",
              "      <td>★ THESE REALLY DO WORK GREAT WITH SOME TWEAKING ★</td>\n",
              "      <td>These Really Do Work Great, But You Do Need To...</td>\n",
              "      <td>2013-01-14</td>\n",
              "      <td>32158956.0</td>\n",
              "      <td>24485154.0</td>\n",
              "      <td>4.0</td>\n",
              "      <td>0.0</td>\n",
              "      <td>0.0</td>\n",
              "    </tr>\n",
              "    <tr>\n",
              "      <th>1</th>\n",
              "      <td>US</td>\n",
              "      <td>R26SP2OPDK4HT7</td>\n",
              "      <td>B01ID3ZS5W</td>\n",
              "      <td>V28 Women Cowl Neck Knit Stretchable Elasticit...</td>\n",
              "      <td>Apparel</td>\n",
              "      <td>N</td>\n",
              "      <td>Y</td>\n",
              "      <td>Favorite for winter. Very warm!</td>\n",
              "      <td>I love this dress. Absolute favorite for winte...</td>\n",
              "      <td>2014-03-04</td>\n",
              "      <td>2714559.0</td>\n",
              "      <td>363128556.0</td>\n",
              "      <td>5.0</td>\n",
              "      <td>1.0</td>\n",
              "      <td>2.0</td>\n",
              "    </tr>\n",
              "    <tr>\n",
              "      <th>2</th>\n",
              "      <td>US</td>\n",
              "      <td>RWQEDYAX373I1</td>\n",
              "      <td>B01I497BGY</td>\n",
              "      <td>James Fiallo Men's 12-Pairs Low Cut Athletic S...</td>\n",
              "      <td>Apparel</td>\n",
              "      <td>N</td>\n",
              "      <td>Y</td>\n",
              "      <td>Great Socks for the money.</td>\n",
              "      <td>Nice socks, great colors, just enough support ...</td>\n",
              "      <td>2015-07-12</td>\n",
              "      <td>12608825.0</td>\n",
              "      <td>811958549.0</td>\n",
              "      <td>5.0</td>\n",
              "      <td>0.0</td>\n",
              "      <td>0.0</td>\n",
              "    </tr>\n",
              "    <tr>\n",
              "      <th>3</th>\n",
              "      <td>US</td>\n",
              "      <td>R231YI7R4GPF6J</td>\n",
              "      <td>B01HDXFZK6</td>\n",
              "      <td>Belfry Gangster 100% Wool Stain-Resistant Crus...</td>\n",
              "      <td>Apparel</td>\n",
              "      <td>N</td>\n",
              "      <td>Y</td>\n",
              "      <td>Slick hat!</td>\n",
              "      <td>I bought this for my husband and WOW, this is ...</td>\n",
              "      <td>2015-06-03</td>\n",
              "      <td>25482800.0</td>\n",
              "      <td>692205728.0</td>\n",
              "      <td>5.0</td>\n",
              "      <td>0.0</td>\n",
              "      <td>0.0</td>\n",
              "    </tr>\n",
              "    <tr>\n",
              "      <th>4</th>\n",
              "      <td>US</td>\n",
              "      <td>R3KO3W45DD0L1K</td>\n",
              "      <td>B01G6MBEBY</td>\n",
              "      <td>JAEDEN Women's Beaded Spaghetti Straps Sexy Lo...</td>\n",
              "      <td>Apparel</td>\n",
              "      <td>N</td>\n",
              "      <td>Y</td>\n",
              "      <td>I would do it again!</td>\n",
              "      <td>Perfect dress and the customer service was awe...</td>\n",
              "      <td>2015-06-12</td>\n",
              "      <td>9310286.0</td>\n",
              "      <td>431150422.0</td>\n",
              "      <td>5.0</td>\n",
              "      <td>0.0</td>\n",
              "      <td>0.0</td>\n",
              "    </tr>\n",
              "  </tbody>\n",
              "</table>\n",
              "</div>\n",
              "      <button class=\"colab-df-convert\" onclick=\"convertToInteractive('df-c4b96b31-b9e4-450d-9058-cbc948ad1b19')\"\n",
              "              title=\"Convert this dataframe to an interactive table.\"\n",
              "              style=\"display:none;\">\n",
              "        \n",
              "  <svg xmlns=\"http://www.w3.org/2000/svg\" height=\"24px\"viewBox=\"0 0 24 24\"\n",
              "       width=\"24px\">\n",
              "    <path d=\"M0 0h24v24H0V0z\" fill=\"none\"/>\n",
              "    <path d=\"M18.56 5.44l.94 2.06.94-2.06 2.06-.94-2.06-.94-.94-2.06-.94 2.06-2.06.94zm-11 1L8.5 8.5l.94-2.06 2.06-.94-2.06-.94L8.5 2.5l-.94 2.06-2.06.94zm10 10l.94 2.06.94-2.06 2.06-.94-2.06-.94-.94-2.06-.94 2.06-2.06.94z\"/><path d=\"M17.41 7.96l-1.37-1.37c-.4-.4-.92-.59-1.43-.59-.52 0-1.04.2-1.43.59L10.3 9.45l-7.72 7.72c-.78.78-.78 2.05 0 2.83L4 21.41c.39.39.9.59 1.41.59.51 0 1.02-.2 1.41-.59l7.78-7.78 2.81-2.81c.8-.78.8-2.07 0-2.86zM5.41 20L4 18.59l7.72-7.72 1.47 1.35L5.41 20z\"/>\n",
              "  </svg>\n",
              "      </button>\n",
              "      \n",
              "  <style>\n",
              "    .colab-df-container {\n",
              "      display:flex;\n",
              "      flex-wrap:wrap;\n",
              "      gap: 12px;\n",
              "    }\n",
              "\n",
              "    .colab-df-convert {\n",
              "      background-color: #E8F0FE;\n",
              "      border: none;\n",
              "      border-radius: 50%;\n",
              "      cursor: pointer;\n",
              "      display: none;\n",
              "      fill: #1967D2;\n",
              "      height: 32px;\n",
              "      padding: 0 0 0 0;\n",
              "      width: 32px;\n",
              "    }\n",
              "\n",
              "    .colab-df-convert:hover {\n",
              "      background-color: #E2EBFA;\n",
              "      box-shadow: 0px 1px 2px rgba(60, 64, 67, 0.3), 0px 1px 3px 1px rgba(60, 64, 67, 0.15);\n",
              "      fill: #174EA6;\n",
              "    }\n",
              "\n",
              "    [theme=dark] .colab-df-convert {\n",
              "      background-color: #3B4455;\n",
              "      fill: #D2E3FC;\n",
              "    }\n",
              "\n",
              "    [theme=dark] .colab-df-convert:hover {\n",
              "      background-color: #434B5C;\n",
              "      box-shadow: 0px 1px 3px 1px rgba(0, 0, 0, 0.15);\n",
              "      filter: drop-shadow(0px 1px 2px rgba(0, 0, 0, 0.3));\n",
              "      fill: #FFFFFF;\n",
              "    }\n",
              "  </style>\n",
              "\n",
              "      <script>\n",
              "        const buttonEl =\n",
              "          document.querySelector('#df-c4b96b31-b9e4-450d-9058-cbc948ad1b19 button.colab-df-convert');\n",
              "        buttonEl.style.display =\n",
              "          google.colab.kernel.accessAllowed ? 'block' : 'none';\n",
              "\n",
              "        async function convertToInteractive(key) {\n",
              "          const element = document.querySelector('#df-c4b96b31-b9e4-450d-9058-cbc948ad1b19');\n",
              "          const dataTable =\n",
              "            await google.colab.kernel.invokeFunction('convertToInteractive',\n",
              "                                                     [key], {});\n",
              "          if (!dataTable) return;\n",
              "\n",
              "          const docLinkHtml = 'Like what you see? Visit the ' +\n",
              "            '<a target=\"_blank\" href=https://colab.research.google.com/notebooks/data_table.ipynb>data table notebook</a>'\n",
              "            + ' to learn more about interactive tables.';\n",
              "          element.innerHTML = '';\n",
              "          dataTable['output_type'] = 'display_data';\n",
              "          await google.colab.output.renderOutput(dataTable, element);\n",
              "          const docLink = document.createElement('div');\n",
              "          docLink.innerHTML = docLinkHtml;\n",
              "          element.appendChild(docLink);\n",
              "        }\n",
              "      </script>\n",
              "    </div>\n",
              "  </div>\n",
              "  "
            ]
          },
          "metadata": {},
          "execution_count": 25
        }
      ]
    },
    {
      "cell_type": "markdown",
      "source": [
        "## Eksplorasi Data (Visualisasi\n",
        "### Berapa persentase setiap nilai pada kepuasan pembelian?"
      ],
      "metadata": {
        "id": "8kEEfRVtud8T"
      }
    },
    {
      "cell_type": "code",
      "source": [
        "data['verified_purchase'].value_counts()"
      ],
      "metadata": {
        "colab": {
          "base_uri": "https://localhost:8080/"
        },
        "id": "RHe6aIEK-gUa",
        "outputId": "0c5e6a34-ff92-4a3b-a238-2b6341d8a3a4"
      },
      "execution_count": 26,
      "outputs": [
        {
          "output_type": "execute_result",
          "data": {
            "text/plain": [
              "Y    5290305\n",
              "N     591569\n",
              "Name: verified_purchase, dtype: int64"
            ]
          },
          "metadata": {},
          "execution_count": 26
        }
      ]
    },
    {
      "cell_type": "code",
      "source": [
        "fig, ax = plt.subplots(1,2,figsize=(16,6))\n",
        "\n",
        "# persentase \"berlangganan deposito\"\n",
        "data['verified_purchase'].value_counts().plot(\n",
        "    kind='pie',\n",
        "    autopct='%.1f%%',\n",
        "    explode=[0,0.05], \n",
        "    cmap='cool',\n",
        "    shadow=True,\n",
        "    ax=ax[0]\n",
        ")\n",
        "ax[0].set_title('Persentase Kepuasan Pembelian')\n",
        "ax[0].set_ylabel('')\n",
        "\n",
        "# Barchart besaran setiap nilai pada kelas target\n",
        "data.groupby('verified_purchase').agg({'verified_purchase':'count'}).plot(\n",
        "    kind='bar',\n",
        "    ax=ax[1]\n",
        ")\n",
        "ax[1].set_title('Jumlah Kepuasan Pembelian')\n",
        "ax[1].set_ylabel('Jumlah')\n",
        "ax[1].set_xlabel('Kepuasan Pembelian')\n",
        "ax[1].legend(title='Nilai Kepuasan')"
      ],
      "metadata": {
        "colab": {
          "base_uri": "https://localhost:8080/",
          "height": 420
        },
        "id": "RYO_fs9G-kcS",
        "outputId": "2f057e76-419e-4666-874b-a232098a8cc5"
      },
      "execution_count": 27,
      "outputs": [
        {
          "output_type": "execute_result",
          "data": {
            "text/plain": [
              "<matplotlib.legend.Legend at 0x7f075440c710>"
            ]
          },
          "metadata": {},
          "execution_count": 27
        },
        {
          "output_type": "display_data",
          "data": {
            "text/plain": [
              "<Figure size 1152x432 with 2 Axes>"
            ],
            "image/png": "[encoded data removed]"
          },
          "metadata": {
            "needs_background": "light"
          }
        }
      ]
    },
    {
      "cell_type": "markdown",
      "source": [
        "## Setup \n",
        "\n",
        "Import matplotlib and create a helper function to plot graphs:"
      ],
      "metadata": {
        "id": "OzuysMxuukOy"
      }
    },
    {
      "cell_type": "code",
      "source": [
        "tfds.disable_progress_bar()\n",
        "import matplotlib.pyplot as plt\n",
        "\n",
        "def plot_graphs(history, metric):\n",
        "  plt.plot(history.history[metric])\n",
        "  plt.plot(history.history['val_'+metric], '')\n",
        "  plt.xlabel(\"Epochs\")\n",
        "  plt.ylabel(metric)\n",
        "  plt.legend([metric, 'val_'+metric])"
      ],
      "metadata": {
        "id": "x474JW5i-oYw"
      },
      "execution_count": 28,
      "outputs": []
    },
    {
      "cell_type": "code",
      "source": [
        "from sklearn.feature_extraction.text import TfidfVectorizer, CountVectorizer\n",
        "from sklearn.decomposition import LatentDirichletAllocation,TruncatedSVD\n",
        "from sklearn.cluster import KMeans\n",
        "from sklearn.preprocessing import MinMaxScaler\n",
        "from sklearn.manifold import TSNE\n",
        "from sklearn.svm import LinearSVC\n",
        "from nltk.stem.snowball import SnowballStemmer\n",
        "from nltk.tokenize import RegexpTokenizer"
      ],
      "metadata": {
        "id": "e0hDARrh-sMn"
      },
      "execution_count": 29,
      "outputs": []
    },
    {
      "cell_type": "markdown",
      "source": [
        "#### Menghilangkan kolom yang tidak diperlukan"
      ],
      "metadata": {
        "id": "zrHG-qbKun_u"
      }
    },
    {
      "cell_type": "code",
      "source": [
        "rating = ['low','neutral','high']\n",
        "\n",
        "def rating_y(y):\n",
        "    if y<=2:\n",
        "        return rating[0]\n",
        "    elif y>=4:\n",
        "        return rating[2]\n",
        "    else:\n",
        "        return rating[1]\n",
        "\n",
        "\n",
        "data['rating_cat'] = data['star_rating'].apply(rating_y)"
      ],
      "metadata": {
        "id": "APiFHMeS-wco"
      },
      "execution_count": 30,
      "outputs": []
    },
    {
      "cell_type": "code",
      "source": [
        "data_fix=data.drop(['marketplace', 'review_id',\n",
        "                      'product_id','product_parent',\n",
        "                      'product_category','helpful_votes',\n",
        "                       'total_votes','vine',\n",
        "                       'verified_purchase','review_headline',\n",
        "                     'review_date','customer_id',\n",
        "                      'product_title',], axis=1)"
      ],
      "metadata": {
        "id": "M8XqI00hqYKG"
      },
      "execution_count": 31,
      "outputs": []
    },
    {
      "cell_type": "code",
      "source": [
        "data_fix=data_fix.head(10000)\n",
        "data_fix.head()"
      ],
      "metadata": {
        "colab": {
          "base_uri": "https://localhost:8080/",
          "height": 206
        },
        "id": "loRAdQxDqi0I",
        "outputId": "7fdec131-93a4-418c-b664-1bdad6560acf"
      },
      "execution_count": 32,
      "outputs": [
        {
          "output_type": "execute_result",
          "data": {
            "text/plain": [
              "                                         review_body  star_rating rating_cat\n",
              "0  These Really Do Work Great, But You Do Need To...          4.0       high\n",
              "1  I love this dress. Absolute favorite for winte...          5.0       high\n",
              "2  Nice socks, great colors, just enough support ...          5.0       high\n",
              "3  I bought this for my husband and WOW, this is ...          5.0       high\n",
              "4  Perfect dress and the customer service was awe...          5.0       high"
            ],
            "text/html": [
              "\n",
              "  <div id=\"df-99396604-fcf9-4f91-83e6-a07d8b5d71f3\">\n",
              "    <div class=\"colab-df-container\">\n",
              "      <div>\n",
              "<style scoped>\n",
              "    .dataframe tbody tr th:only-of-type {\n",
              "        vertical-align: middle;\n",
              "    }\n",
              "\n",
              "    .dataframe tbody tr th {\n",
              "        vertical-align: top;\n",
              "    }\n",
              "\n",
              "    .dataframe thead th {\n",
              "        text-align: right;\n",
              "    }\n",
              "</style>\n",
              "<table border=\"1\" class=\"dataframe\">\n",
              "  <thead>\n",
              "    <tr style=\"text-align: right;\">\n",
              "      <th></th>\n",
              "      <th>review_body</th>\n",
              "      <th>star_rating</th>\n",
              "      <th>rating_cat</th>\n",
              "    </tr>\n",
              "  </thead>\n",
              "  <tbody>\n",
              "    <tr>\n",
              "      <th>0</th>\n",
              "      <td>These Really Do Work Great, But You Do Need To...</td>\n",
              "      <td>4.0</td>\n",
              "      <td>high</td>\n",
              "    </tr>\n",
              "    <tr>\n",
              "      <th>1</th>\n",
              "      <td>I love this dress. Absolute favorite for winte...</td>\n",
              "      <td>5.0</td>\n",
              "      <td>high</td>\n",
              "    </tr>\n",
              "    <tr>\n",
              "      <th>2</th>\n",
              "      <td>Nice socks, great colors, just enough support ...</td>\n",
              "      <td>5.0</td>\n",
              "      <td>high</td>\n",
              "    </tr>\n",
              "    <tr>\n",
              "      <th>3</th>\n",
              "      <td>I bought this for my husband and WOW, this is ...</td>\n",
              "      <td>5.0</td>\n",
              "      <td>high</td>\n",
              "    </tr>\n",
              "    <tr>\n",
              "      <th>4</th>\n",
              "      <td>Perfect dress and the customer service was awe...</td>\n",
              "      <td>5.0</td>\n",
              "      <td>high</td>\n",
              "    </tr>\n",
              "  </tbody>\n",
              "</table>\n",
              "</div>\n",
              "      <button class=\"colab-df-convert\" onclick=\"convertToInteractive('df-99396604-fcf9-4f91-83e6-a07d8b5d71f3')\"\n",
              "              title=\"Convert this dataframe to an interactive table.\"\n",
              "              style=\"display:none;\">\n",
              "        \n",
              "  <svg xmlns=\"http://www.w3.org/2000/svg\" height=\"24px\"viewBox=\"0 0 24 24\"\n",
              "       width=\"24px\">\n",
              "    <path d=\"M0 0h24v24H0V0z\" fill=\"none\"/>\n",
              "    <path d=\"M18.56 5.44l.94 2.06.94-2.06 2.06-.94-2.06-.94-.94-2.06-.94 2.06-2.06.94zm-11 1L8.5 8.5l.94-2.06 2.06-.94-2.06-.94L8.5 2.5l-.94 2.06-2.06.94zm10 10l.94 2.06.94-2.06 2.06-.94-2.06-.94-.94-2.06-.94 2.06-2.06.94z\"/><path d=\"M17.41 7.96l-1.37-1.37c-.4-.4-.92-.59-1.43-.59-.52 0-1.04.2-1.43.59L10.3 9.45l-7.72 7.72c-.78.78-.78 2.05 0 2.83L4 21.41c.39.39.9.59 1.41.59.51 0 1.02-.2 1.41-.59l7.78-7.78 2.81-2.81c.8-.78.8-2.07 0-2.86zM5.41 20L4 18.59l7.72-7.72 1.47 1.35L5.41 20z\"/>\n",
              "  </svg>\n",
              "      </button>\n",
              "      \n",
              "  <style>\n",
              "    .colab-df-container {\n",
              "      display:flex;\n",
              "      flex-wrap:wrap;\n",
              "      gap: 12px;\n",
              "    }\n",
              "\n",
              "    .colab-df-convert {\n",
              "      background-color: #E8F0FE;\n",
              "      border: none;\n",
              "      border-radius: 50%;\n",
              "      cursor: pointer;\n",
              "      display: none;\n",
              "      fill: #1967D2;\n",
              "      height: 32px;\n",
              "      padding: 0 0 0 0;\n",
              "      width: 32px;\n",
              "    }\n",
              "\n",
              "    .colab-df-convert:hover {\n",
              "      background-color: #E2EBFA;\n",
              "      box-shadow: 0px 1px 2px rgba(60, 64, 67, 0.3), 0px 1px 3px 1px rgba(60, 64, 67, 0.15);\n",
              "      fill: #174EA6;\n",
              "    }\n",
              "\n",
              "    [theme=dark] .colab-df-convert {\n",
              "      background-color: #3B4455;\n",
              "      fill: #D2E3FC;\n",
              "    }\n",
              "\n",
              "    [theme=dark] .colab-df-convert:hover {\n",
              "      background-color: #434B5C;\n",
              "      box-shadow: 0px 1px 3px 1px rgba(0, 0, 0, 0.15);\n",
              "      filter: drop-shadow(0px 1px 2px rgba(0, 0, 0, 0.3));\n",
              "      fill: #FFFFFF;\n",
              "    }\n",
              "  </style>\n",
              "\n",
              "      <script>\n",
              "        const buttonEl =\n",
              "          document.querySelector('#df-99396604-fcf9-4f91-83e6-a07d8b5d71f3 button.colab-df-convert');\n",
              "        buttonEl.style.display =\n",
              "          google.colab.kernel.accessAllowed ? 'block' : 'none';\n",
              "\n",
              "        async function convertToInteractive(key) {\n",
              "          const element = document.querySelector('#df-99396604-fcf9-4f91-83e6-a07d8b5d71f3');\n",
              "          const dataTable =\n",
              "            await google.colab.kernel.invokeFunction('convertToInteractive',\n",
              "                                                     [key], {});\n",
              "          if (!dataTable) return;\n",
              "\n",
              "          const docLinkHtml = 'Like what you see? Visit the ' +\n",
              "            '<a target=\"_blank\" href=https://colab.research.google.com/notebooks/data_table.ipynb>data table notebook</a>'\n",
              "            + ' to learn more about interactive tables.';\n",
              "          element.innerHTML = '';\n",
              "          dataTable['output_type'] = 'display_data';\n",
              "          await google.colab.output.renderOutput(dataTable, element);\n",
              "          const docLink = document.createElement('div');\n",
              "          docLink.innerHTML = docLinkHtml;\n",
              "          element.appendChild(docLink);\n",
              "        }\n",
              "      </script>\n",
              "    </div>\n",
              "  </div>\n",
              "  "
            ]
          },
          "metadata": {},
          "execution_count": 32
        }
      ]
    },
    {
      "cell_type": "code",
      "source": [
        "stemmer = SnowballStemmer(\"english\")\n",
        "tokenizer = RegexpTokenizer(\"[a-z']+\")\n",
        "\n",
        "def tokenize(text):\n",
        "    tokens = tokenizer.tokenize(text)\n",
        "    return [stemmer.stem(t) for t in tokens] \n",
        "\n",
        "def get_tf(data_fix, use_idf, max_df=1.0, min_df=1, ngram_range=(1,1)):\n",
        "    if use_idf:\n",
        "        m = TfidfVectorizer(max_df=max_df, min_df=min_df, stop_words='english', ngram_range=ngram_range, tokenizer=tokenize)\n",
        "    else:\n",
        "        m = CountVectorizer(max_df=max_df, min_df=min_df, stop_words='english', ngram_range=ngram_range, tokenizer=tokenize)\n",
        "    \n",
        "    d = m.fit_transform(data_fix.values.astype('U'))\n",
        "    \n",
        "    return m, d\n",
        "tf_m, tf_d = get_tf(data_fix['review_body'], use_idf=False, max_df=0.90, min_df=10)\n",
        "tfidf_m, tfidf_d = get_tf(data_fix['review_body'], use_idf=True, max_df=0.90, min_df=10)\n"
      ],
      "metadata": {
        "colab": {
          "base_uri": "https://localhost:8080/"
        },
        "id": "dYqCK3j3qpyr",
        "outputId": "43883498-1a65-463b-9498-e88b580e144a"
      },
      "execution_count": 33,
      "outputs": [
        {
          "output_type": "stream",
          "name": "stderr",
          "text": [
            "/usr/local/lib/python3.7/dist-packages/sklearn/feature_extraction/text.py:401: UserWarning: Your stop_words may be inconsistent with your preprocessing. Tokenizing the stop words generated tokens ['abov', 'afterward', 'alon', 'alreadi', 'alway', 'ani', 'anoth', 'anyon', 'anyth', 'anywher', 'becam', 'becaus', 'becom', 'befor', 'besid', 'cri', 'describ', 'dure', 'els', 'elsewher', 'empti', 'everi', 'everyon', 'everyth', 'everywher', 'fifti', 'forti', 'henc', 'hereaft', 'herebi', 'howev', 'hundr', 'inde', 'mani', 'meanwhil', 'moreov', 'nobodi', 'noon', 'noth', 'nowher', 'onc', 'onli', 'otherwis', 'ourselv', 'perhap', 'pleas', 'sever', 'sinc', 'sincer', 'sixti', 'someon', 'someth', 'sometim', 'somewher', 'themselv', 'thenc', 'thereaft', 'therebi', 'therefor', 'togeth', 'twelv', 'twenti', 'veri', 'whatev', 'whenc', 'whenev', 'wherea', 'whereaft', 'wherebi', 'wherev', 'whi', 'yourselv'] not in stop_words.\n",
            "  % sorted(inconsistent)\n"
          ]
        }
      ]
    },
    {
      "cell_type": "code",
      "source": [
        "n_topics = 10\n",
        "\n",
        "def get_lda(data_fix, topics):\n",
        "    m = LatentDirichletAllocation(n_components=topics, n_jobs=-1, learning_method='online').fit(data_fix)\n",
        "    d = m.transform(data_fix)\n",
        "    return m, d\n",
        "\n",
        "def get_kmeans(data_fix, k, scale=True):\n",
        "    if scale:\n",
        "        s = MinMaxScaler()\n",
        "        data = s.fit_transform(data_fix)\n",
        "    \n",
        "    m = KMeans(n_clusters=k).fit(data_fix)\n",
        "    d = m.predict(data_fix)\n",
        "    return m, d        \n",
        "\n",
        "lda_m, lda_d = get_lda(tf_d, n_topics)\n",
        "kmean_m, kmean_d = get_kmeans(tfidf_d, n_topics, scale=False)"
      ],
      "metadata": {
        "id": "nIi6XiJkqw49"
      },
      "execution_count": 34,
      "outputs": []
    },
    {
      "cell_type": "code",
      "source": [
        "def show_topics(model, feature_names, n_words):\n",
        "    for topic_idx, topic in enumerate(model.components_):\n",
        "        print(\"Topic #%d:\" % topic_idx)\n",
        "        print(\", \".join([feature_names[i]\n",
        "                        for i in topic.argsort()[:-n_words - 1:-1]]))\n",
        "    print()"
      ],
      "metadata": {
        "id": "D1BwaaaNrF8C"
      },
      "execution_count": 35,
      "outputs": []
    },
    {
      "cell_type": "code",
      "source": [
        "def show_cluster_topics(cluster_labels, tf_matrix, feature_names, n_words):\n",
        "    d = pd.DataFrame(tf_matrix.toarray())\n",
        "    d['c'] = cluster_labels\n",
        "    d = d.groupby('c').sum().T\n",
        "    \n",
        "    for col in d:\n",
        "        top_n = d[col].nlargest(n_words).index.tolist()\n",
        "        print(\"Cluster #%d:\" % col)\n",
        "        print(\", \".join([feature_names[i]\n",
        "                for i in top_n]))\n",
        "    print()"
      ],
      "metadata": {
        "id": "MsVSkiCnrKnN"
      },
      "execution_count": 36,
      "outputs": []
    },
    {
      "cell_type": "code",
      "source": [
        "print(\"Top 15 stemmed words per topic in LDA model\\n\")\n",
        "show_topics(lda_m, tf_m.get_feature_names(), 15)"
      ],
      "metadata": {
        "colab": {
          "base_uri": "https://localhost:8080/"
        },
        "id": "7wQQe-iKrP-5",
        "outputId": "747f0248-48dd-49a7-fe92-f8b48d79090d"
      },
      "execution_count": 37,
      "outputs": [
        {
          "output_type": "stream",
          "name": "stdout",
          "text": [
            "Top 15 stemmed words per topic in LDA model\n",
            "\n",
            "Topic #0:\n",
            "year, cheap, old, disappoint, look, design, cover, head, like, item, babi, cost, month, poor, amaz\n",
            "Topic #1:\n",
            "like, pictur, look, skirt, sock, daughter, money, buy, just, pair, compani, realli, feet, jacket, noth\n",
            "Topic #2:\n",
            "br, review, receiv, veri, product, honest, exchang, discount, materi, color, wear, comfort, soft, unbias, feel\n",
            "Topic #3:\n",
            "size, fit, small, order, larg, i'm, like, wear, medium, littl, veri, ', just, expect, big\n",
            "Topic #4:\n",
            "wear, just, look, suit, like, got, purchas, say, time, becaus, order, i'm, want, tri, happi\n",
            "Topic #5:\n",
            "dress, waist, beauti, belt, wear, bust, onli, just, pretti, littl, tight, hip, becaus, fabric, veri\n",
            "Topic #6:\n",
            "shape, costum, area, print, bodi, short, wore, dress, style, wed, scrub, romper, night, tall, purpl\n",
            "Topic #7:\n",
            "wallet, pocket, card, hat, bra, use, hold, strap, work, leather, bag, like, need, great, nice\n",
            "Topic #8:\n",
            "love, great, fit, veri, qualiti, perfect, good, nice, look, price, color, comfort, materi, cute, soft\n",
            "Topic #9:\n",
            "shirt, wash, t, love, awesom, wear, super, excel, dri, comfort, cool, print, perfect, use, light\n",
            "\n"
          ]
        },
        {
          "output_type": "stream",
          "name": "stderr",
          "text": [
            "/usr/local/lib/python3.7/dist-packages/sklearn/utils/deprecation.py:87: FutureWarning: Function get_feature_names is deprecated; get_feature_names is deprecated in 1.0 and will be removed in 1.2. Please use get_feature_names_out instead.\n",
            "  warnings.warn(msg, category=FutureWarning)\n"
          ]
        }
      ]
    },
    {
      "cell_type": "code",
      "source": [
        "def get_svd(data_fix, components):\n",
        "    svd = TruncatedSVD(n_components=components).fit(data_fix)\n",
        "    o = pd.DataFrame(svd.transform(data_fix), columns=range(0,components))\n",
        "    return svd,o\n",
        "\n",
        "def get_tsne(data_fix, components, perplexity):\n",
        "    tsne = TSNE(n_components=components, perplexity=perplexity, n_iter=1000)\n",
        "    o = pd.DataFrame(tsne.fit_transform(data_fix), columns=range(0,components))\n",
        "    return tsne,o\n",
        "\n",
        "svd_v, svd_m = get_svd(tfidf_d, 50)\n",
        "tnse_v, tsne_m = get_tsne(svd_m, 2, 25)\n",
        "\n",
        "lda_c = lda_d.argmax(axis=1)"
      ],
      "metadata": {
        "colab": {
          "base_uri": "https://localhost:8080/"
        },
        "id": "A0s_OwUkrh6C",
        "outputId": "32d769c2-b6b4-4f7c-e292-27bf1962ce04"
      },
      "execution_count": 38,
      "outputs": [
        {
          "output_type": "stream",
          "name": "stderr",
          "text": [
            "/usr/local/lib/python3.7/dist-packages/sklearn/manifold/_t_sne.py:783: FutureWarning: The default initialization in TSNE will change from 'random' to 'pca' in 1.2.\n",
            "  FutureWarning,\n",
            "/usr/local/lib/python3.7/dist-packages/sklearn/manifold/_t_sne.py:793: FutureWarning: The default learning rate in TSNE will change from 200.0 to 'auto' in 1.2.\n",
            "  FutureWarning,\n"
          ]
        }
      ]
    },
    {
      "cell_type": "code",
      "source": [
        "import matplotlib.pyplot as plt\n",
        "import matplotlib.cm as cm\n",
        "import matplotlib\n",
        "\n",
        "def plot_scatter_2d(x, y, c, sample_size, title):\n",
        "    df = pd.DataFrame({'x': x, 'y': y, 'c': c}).sample(sample_size)\n",
        "    l = len(np.unique(c))\n",
        "    \n",
        "    ax = plt.subplot(111)\n",
        "    colors = cm.rainbow(np.linspace(0, 1, l))\n",
        "                                   \n",
        "    for c in range(0,l):\n",
        "        qq = df[df['c']==c]\n",
        "        ax.scatter(qq['x'], qq['y'],c=colors[c], label=c)\n",
        "    plt.legend(loc='upper left', numpoints=1, ncol=3, fontsize=8, bbox_to_anchor=(0, 0), title='Topic/Cluster')\n",
        "    ax.set_yticklabels([])\n",
        "    ax.set_xticklabels([])\n",
        "    ax.set_title(title)\n",
        "    plt.show()\n",
        "\n",
        "get_ipython().run_line_magic('matplotlib', 'inline')\n",
        "plot_scatter_2d(tsne_m[0], tsne_m[1], kmean_d, 1000, 'KMeans Clustering of Baby Products Reviews using TFIDF (t-SNE Plot)')\n"
      ],
      "metadata": {
        "colab": {
          "base_uri": "https://localhost:8080/",
          "height": 539
        },
        "id": "1VpBe8fnsCOr",
        "outputId": "4dc74095-4469-4fc1-e135-b4fb28d1ae56"
      },
      "execution_count": 39,
      "outputs": [
        {
          "output_type": "stream",
          "name": "stderr",
          "text": [
            "WARNING:matplotlib.axes._axes:*c* argument looks like a single numeric RGB or RGBA sequence, which should be avoided as value-mapping will have precedence in case its length matches with *x* & *y*.  Please use the *color* keyword-argument or provide a 2-D array with a single row if you intend to specify the same RGB or RGBA value for all points.\n",
            "WARNING:matplotlib.axes._axes:*c* argument looks like a single numeric RGB or RGBA sequence, which should be avoided as value-mapping will have precedence in case its length matches with *x* & *y*.  Please use the *color* keyword-argument or provide a 2-D array with a single row if you intend to specify the same RGB or RGBA value for all points.\n",
            "WARNING:matplotlib.axes._axes:*c* argument looks like a single numeric RGB or RGBA sequence, which should be avoided as value-mapping will have precedence in case its length matches with *x* & *y*.  Please use the *color* keyword-argument or provide a 2-D array with a single row if you intend to specify the same RGB or RGBA value for all points.\n",
            "WARNING:matplotlib.axes._axes:*c* argument looks like a single numeric RGB or RGBA sequence, which should be avoided as value-mapping will have precedence in case its length matches with *x* & *y*.  Please use the *color* keyword-argument or provide a 2-D array with a single row if you intend to specify the same RGB or RGBA value for all points.\n",
            "WARNING:matplotlib.axes._axes:*c* argument looks like a single numeric RGB or RGBA sequence, which should be avoided as value-mapping will have precedence in case its length matches with *x* & *y*.  Please use the *color* keyword-argument or provide a 2-D array with a single row if you intend to specify the same RGB or RGBA value for all points.\n",
            "WARNING:matplotlib.axes._axes:*c* argument looks like a single numeric RGB or RGBA sequence, which should be avoided as value-mapping will have precedence in case its length matches with *x* & *y*.  Please use the *color* keyword-argument or provide a 2-D array with a single row if you intend to specify the same RGB or RGBA value for all points.\n",
            "WARNING:matplotlib.axes._axes:*c* argument looks like a single numeric RGB or RGBA sequence, which should be avoided as value-mapping will have precedence in case its length matches with *x* & *y*.  Please use the *color* keyword-argument or provide a 2-D array with a single row if you intend to specify the same RGB or RGBA value for all points.\n",
            "WARNING:matplotlib.axes._axes:*c* argument looks like a single numeric RGB or RGBA sequence, which should be avoided as value-mapping will have precedence in case its length matches with *x* & *y*.  Please use the *color* keyword-argument or provide a 2-D array with a single row if you intend to specify the same RGB or RGBA value for all points.\n",
            "WARNING:matplotlib.axes._axes:*c* argument looks like a single numeric RGB or RGBA sequence, which should be avoided as value-mapping will have precedence in case its length matches with *x* & *y*.  Please use the *color* keyword-argument or provide a 2-D array with a single row if you intend to specify the same RGB or RGBA value for all points.\n",
            "WARNING:matplotlib.axes._axes:*c* argument looks like a single numeric RGB or RGBA sequence, which should be avoided as value-mapping will have precedence in case its length matches with *x* & *y*.  Please use the *color* keyword-argument or provide a 2-D array with a single row if you intend to specify the same RGB or RGBA value for all points.\n"
          ]
        },
        {
          "output_type": "display_data",
          "data": {
            "text/plain": [
              "<Figure size 432x288 with 1 Axes>"
            ],
            "image/png": "[encoded data removed]"
          },
          "metadata": {
            "needs_background": "light"
          }
        }
      ]
    },
    {
      "cell_type": "code",
      "source": [
        "X_train, X_test, y_train, y_test = train_test_split(tfidf_d,\n",
        "                                                    data_fix['rating_cat'],test_size=0.3)"
      ],
      "metadata": {
        "id": "OwjqwIOYsJAJ"
      },
      "execution_count": 40,
      "outputs": []
    },
    {
      "cell_type": "code",
      "source": [
        "from sklearn.naive_bayes import MultinomialNB\n",
        "from sklearn.ensemble import RandomForestClassifier, VotingClassifier\n",
        "def calculate_cv(X, y):\n",
        "    results = {\n",
        "        'lr': [],\n",
        "        'svm': [],\n",
        "        'nb': [],\n",
        "        'combined': []\n",
        "    }\n",
        "    lm = LogisticRegression()\n",
        "    svm = LinearSVC()\n",
        "    nb = MultinomialNB()\n",
        "    vc = VotingClassifier([('lm', lm), ('svm', svm), ('nb', nb)])\n",
        "    \n",
        "    for c in rating:\n",
        "        y_adj = np.array(y==c)\n",
        "        results['lr'].append((cross_val_score(lm, X, y_adj, cv=10, scoring='accuracy').mean(), c))\n",
        "        results['svm'].append((cross_val_score(svm, X, y_adj, cv=10, scoring='accuracy').mean(), c))\n",
        "        results['nb'].append((cross_val_score(nb, X, y_adj, cv=10, scoring='accuracy').mean(), c))\n",
        "        results['combined'].append((cross_val_score(vc, X, y_adj, cv=10, scoring='accuracy').mean(), c))\n",
        "    return results\n",
        "\n",
        "cv_scores = calculate_cv(X_test, y_test)\n",
        "\n",
        "print(\"Model accuracy predictions\\n\")\n",
        "for m,s in cv_scores.items():\n",
        "    for ss in s:\n",
        "        print(\"{M} model ({R} rating): {S:.1%}\".format(M=m.upper(), R=ss[1], S=ss[0]))\n",
        "    print()\n"
      ],
      "metadata": {
        "colab": {
          "base_uri": "https://localhost:8080/"
        },
        "id": "41HXGh7TsOfD",
        "outputId": "ca182bc9-23b2-45f7-8079-e2a7a5451276"
      },
      "execution_count": 41,
      "outputs": [
        {
          "output_type": "stream",
          "name": "stdout",
          "text": [
            "Model accuracy predictions\n",
            "\n",
            "LR model (low rating): 87.6%\n",
            "LR model (neutral rating): 91.1%\n",
            "LR model (high rating): 85.6%\n",
            "\n",
            "SVM model (low rating): 88.4%\n",
            "SVM model (neutral rating): 90.0%\n",
            "SVM model (high rating): 86.4%\n",
            "\n",
            "NB model (low rating): 85.7%\n",
            "NB model (neutral rating): 91.3%\n",
            "NB model (high rating): 81.2%\n",
            "\n",
            "COMBINED model (low rating): 87.7%\n",
            "COMBINED model (neutral rating): 91.1%\n",
            "COMBINED model (high rating): 85.6%\n",
            "\n"
          ]
        }
      ]
    },
    {
      "cell_type": "code",
      "source": [
        "def get_lr(x, y):\n",
        "    models = []\n",
        "    for c in rating:\n",
        "        y_adj = np.array(y==c)\n",
        "        lm = LogisticRegression()\n",
        "        lm_f = lm.fit(x, y_adj)\n",
        "        models.append(lm_f)\n",
        "    return models\n",
        "\n",
        "lr_m = get_lr(X_train, y_train)"
      ],
      "metadata": {
        "id": "YXqtHmQJsYad"
      },
      "execution_count": 42,
      "outputs": []
    },
    {
      "cell_type": "code",
      "source": [
        "get_ipython().run_line_magic('matplotlib', 'inline')\n",
        "\n",
        "def plot_coef(title, model, feature_names, n_words):\n",
        "    v = []\n",
        "    for topic_idx, topic in enumerate(model.coef_):\n",
        "        [v.append([feature_names[i], model.coef_.item(i)]) for i in topic.argsort()[:-n_words - 1:-1]]\n",
        "        [v.append([feature_names[i], model.coef_.item(i)]) for i in topic.argsort()[0:n_words]]\n",
        "    df = pd.DataFrame(v, columns=['Term','Coefficient']).sort_values(by='Coefficient',ascending=False)\n",
        "    df['c'] = df['Coefficient']>0\n",
        "    ax = df.plot(x='Term', y='Coefficient', kind='barh', color=df['c'].map({True: 'g', False: 'r'}), grid=True, legend=False,\n",
        "           title=title)\n",
        "    ax.set_xlabel(\"Coefficient\")"
      ],
      "metadata": {
        "id": "mgF8NUqxsb6v"
      },
      "execution_count": 43,
      "outputs": []
    },
    {
      "cell_type": "code",
      "source": [
        "n_terms = 12\n",
        "for c in range(0,len(rating)):\n",
        "    plot_coef('Top {N} words in ({R}) review model\\nGreen = Associated | Red = Not Associated'.format(N=n_terms*2, R=rating[c]), \n",
        "              lr_m[c], tfidf_m.get_feature_names(), n_terms)"
      ],
      "metadata": {
        "colab": {
          "base_uri": "https://localhost:8080/",
          "height": 952
        },
        "id": "qoLaJ1rWsc2D",
        "outputId": "a875a779-e711-433e-e27f-ca5b03d2cba8"
      },
      "execution_count": 44,
      "outputs": [
        {
          "output_type": "stream",
          "name": "stderr",
          "text": [
            "/usr/local/lib/python3.7/dist-packages/sklearn/utils/deprecation.py:87: FutureWarning: Function get_feature_names is deprecated; get_feature_names is deprecated in 1.0 and will be removed in 1.2. Please use get_feature_names_out instead.\n",
            "  warnings.warn(msg, category=FutureWarning)\n"
          ]
        },
        {
          "output_type": "display_data",
          "data": {
            "text/plain": [
              "<Figure size 432x288 with 1 Axes>"
            ],
            "image/png": "[encoded data removed]"
          },
          "metadata": {
            "needs_background": "light"
          }
        },
        {
          "output_type": "display_data",
          "data": {
            "text/plain": [
              "<Figure size 432x288 with 1 Axes>"
            ],
            "image/png": "[encoded data removed]"
          },
          "metadata": {
            "needs_background": "light"
          }
        },
        {
          "output_type": "display_data",
          "data": {
            "text/plain": [
              "<Figure size 432x288 with 1 Axes>"
            ],
            "image/png": "[encoded data removed]"
          },
          "metadata": {
            "needs_background": "light"
          }
        }
      ]
    },
    {
      "cell_type": "code",
      "source": [
        "def test_review(text):\n",
        "    test_str = [text]\n",
        "    test_new = tfidf_m.transform(test_str)\n",
        "\n",
        "    print('Review text: \"{R}\"\\n'.format(R=test_str[0]))\n",
        "    print('Model Prediction')\n",
        "    for m in range(0,3):\n",
        "        print('Model ({M}): {P:.1%}'.format(M=rating[m], P=lr_m[m].predict_proba(test_new)[0][1]))"
      ],
      "metadata": {
        "id": "jt4waic4siuS"
      },
      "execution_count": 45,
      "outputs": []
    },
    {
      "cell_type": "markdown",
      "source": [
        "## Coba Review Text Kepuasan Pembeli"
      ],
      "metadata": {
        "id": "-pHNz_7Yu6kQ"
      }
    },
    {
      "cell_type": "code",
      "source": [
        "test_review('I bought an apparel is reject and I returned it when it arrived.')"
      ],
      "metadata": {
        "colab": {
          "base_uri": "https://localhost:8080/"
        },
        "id": "zT6sz8hMsko1",
        "outputId": "b4b7b0ee-e91e-488a-9000-e00fa8a4642b"
      },
      "execution_count": 48,
      "outputs": [
        {
          "output_type": "stream",
          "name": "stdout",
          "text": [
            "Review text: \"I bought an apparel is reject and I returned it when it arrived.\"\n",
            "\n",
            "Model Prediction\n",
            "Model (low): 50.4%\n",
            "Model (neutral): 10.0%\n",
            "Model (high): 29.1%\n"
          ]
        }
      ]
    },
    {
      "cell_type": "code",
      "source": [
        "test_review('I really like an apparel, good looking, and the price was cheap I am glad to bought it')"
      ],
      "metadata": {
        "colab": {
          "base_uri": "https://localhost:8080/"
        },
        "id": "E6olP1abspSC",
        "outputId": "4740e941-af46-4e22-81f0-1be048e2e395"
      },
      "execution_count": 49,
      "outputs": [
        {
          "output_type": "stream",
          "name": "stdout",
          "text": [
            "Review text: \"I really like an apparel, good looking, and the price was cheap I am glad to bought it\"\n",
            "\n",
            "Model Prediction\n",
            "Model (low): 16.5%\n",
            "Model (neutral): 5.8%\n",
            "Model (high): 69.1%\n"
          ]
        }
      ]
    }
  ]
}